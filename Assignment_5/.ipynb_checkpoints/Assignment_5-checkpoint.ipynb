{
 "cells": [
  {
   "cell_type": "code",
   "execution_count": 0,
   "metadata": {
    "colab": {},
    "colab_type": "code",
    "id": "yZRaC_TUxde5"
   },
   "outputs": [],
   "source": [
    "import tensorflow as tf\n",
    "import keras\n",
    "import numpy as np\n",
    "import pandas as pd\n",
    "import matplotlib.pyplot as plt\n",
    "import cv2\n",
    "import seaborn as sns\n",
    "import skimage as sk\n",
    "from tensorflow.python.framework import ops\n",
    "import idx2numpy\n",
    "import matplotlib.pyplot as plt\n",
    "from tensorflow.examples.tutorials.mnist import input_data\n",
    "%matplotlib inline"
   ]
  },
  {
   "cell_type": "code",
   "execution_count": 0,
   "metadata": {
    "colab": {},
    "colab_type": "code",
    "id": "Wp1Q49ULOL6S"
   },
   "outputs": [],
   "source": [
    "from keras.utils import to_categorical"
   ]
  },
  {
   "cell_type": "code",
   "execution_count": 3,
   "metadata": {
    "colab": {
     "base_uri": "https://localhost:8080/",
     "height": 191
    },
    "colab_type": "code",
    "id": "yhv9nWaW1MeC",
    "outputId": "dda1d952-592c-47dd-dced-ffa35583a94a"
   },
   "outputs": [
    {
     "name": "stdout",
     "output_type": "stream",
     "text": [
      "Collecting idx2numpy\n",
      "  Downloading https://files.pythonhosted.org/packages/23/6b/abab4652eb249f432c62431907c8de32bdcedb5abdf869ff86653efff981/idx2numpy-1.2.2.tar.gz\n",
      "Requirement already satisfied: numpy in /usr/local/lib/python3.6/dist-packages (from idx2numpy) (1.16.4)\n",
      "Requirement already satisfied: six in /usr/local/lib/python3.6/dist-packages (from idx2numpy) (1.12.0)\n",
      "Building wheels for collected packages: idx2numpy\n",
      "  Building wheel for idx2numpy (setup.py) ... \u001b[?25l\u001b[?25hdone\n",
      "  Stored in directory: /root/.cache/pip/wheels/7a/b5/69/3e0757b3086607e95db70661798fdf98a77a0bb79c54e1f320\n",
      "Successfully built idx2numpy\n",
      "Installing collected packages: idx2numpy\n",
      "Successfully installed idx2numpy-1.2.2\n"
     ]
    }
   ],
   "source": []
  },
  {
   "cell_type": "code",
   "execution_count": 7,
   "metadata": {
    "colab": {
     "base_uri": "https://localhost:8080/",
     "height": 156
    },
    "colab_type": "code",
    "id": "ybPhazdA1kmj",
    "outputId": "99466ec4-de14-4754-f28b-5d5827e6b476"
   },
   "outputs": [
    {
     "name": "stdout",
     "output_type": "stream",
     "text": [
      "Downloading data from https://storage.googleapis.com/tensorflow/tf-keras-datasets/train-labels-idx1-ubyte.gz\n",
      "32768/29515 [=================================] - 0s 0us/step\n",
      "Downloading data from https://storage.googleapis.com/tensorflow/tf-keras-datasets/train-images-idx3-ubyte.gz\n",
      "26427392/26421880 [==============================] - 0s 0us/step\n",
      "Downloading data from https://storage.googleapis.com/tensorflow/tf-keras-datasets/t10k-labels-idx1-ubyte.gz\n",
      "8192/5148 [===============================================] - 0s 0us/step\n",
      "Downloading data from https://storage.googleapis.com/tensorflow/tf-keras-datasets/t10k-images-idx3-ubyte.gz\n",
      "4423680/4422102 [==============================] - 0s 0us/step\n"
     ]
    }
   ],
   "source": [
    "((train_data, train_labels),\n",
    "(eval_data, eval_labels)) = tf.keras.datasets.fashion_mnist.load_data()"
   ]
  },
  {
   "cell_type": "code",
   "execution_count": 0,
   "metadata": {
    "colab": {},
    "colab_type": "code",
    "id": "iH3kPALcLQKX"
   },
   "outputs": [],
   "source": [
    "#Normalizing dataset\n",
    "train_data = train_data/np.float32(255)\n",
    "train_labels = train_labels.astype(np.int32)\n",
    "\n",
    "eval_data = eval_data/np.float32(255)\n",
    "eval_labels = eval_labels.astype(np.int32)"
   ]
  },
  {
   "cell_type": "code",
   "execution_count": 0,
   "metadata": {
    "colab": {},
    "colab_type": "code",
    "id": "Y67OCCKrMmWF"
   },
   "outputs": [],
   "source": [
    "#Reshaping dataset\n",
    "train_data = train_data.reshape(train_data.shape[0], 28, 28, 1)\n",
    "eval_data = eval_data.reshape(eval_data.shape[0], 28, 28, 1)"
   ]
  },
  {
   "cell_type": "code",
   "execution_count": 0,
   "metadata": {
    "colab": {},
    "colab_type": "code",
    "id": "sbEIszBmNxdW"
   },
   "outputs": [],
   "source": [
    "#Converting to categorical\n",
    "train_labels = to_categorical(train_labels, 10)\n",
    "eval_labels = to_categorical(eval_labels, 10)"
   ]
  },
  {
   "cell_type": "markdown",
   "metadata": {
    "colab_type": "text",
    "id": "CnUUqYID5Z2o"
   },
   "source": [
    "Using keras sequential model for CNN implementation: "
   ]
  },
  {
   "cell_type": "code",
   "execution_count": 0,
   "metadata": {
    "colab": {},
    "colab_type": "code",
    "id": "cJwaDRPI14ND"
   },
   "outputs": [],
   "source": [
    "fmnist_model=tf.keras.Sequential()"
   ]
  },
  {
   "cell_type": "code",
   "execution_count": 131,
   "metadata": {
    "colab": {
     "base_uri": "https://localhost:8080/",
     "height": 34
    },
    "colab_type": "code",
    "id": "5W8cq-h_aDCW",
    "outputId": "aeb23196-de63-4a06-816d-6058bb034e46"
   },
   "outputs": [
    {
     "data": {
      "text/plain": [
       "'1.14.0-rc1'"
      ]
     },
     "execution_count": 131,
     "metadata": {
      "tags": []
     },
     "output_type": "execute_result"
    }
   ],
   "source": [
    "tf.__version__"
   ]
  },
  {
   "cell_type": "markdown",
   "metadata": {
    "colab_type": "text",
    "id": "N67XzWrd8e_5"
   },
   "source": [
    "Adding first conv layer:\n"
   ]
  },
  {
   "cell_type": "code",
   "execution_count": 0,
   "metadata": {
    "colab": {},
    "colab_type": "code",
    "id": "Giqd1_Lk5Tgf"
   },
   "outputs": [],
   "source": [
    "fmnist_model.add(tf.keras.layers.Conv2D(filters=32,kernel_size=3,padding='same',activation='relu',input_shape=(28, 28, 1)))"
   ]
  },
  {
   "cell_type": "markdown",
   "metadata": {
    "colab_type": "text",
    "id": "V8NT2X5X8lDh"
   },
   "source": [
    "Adding Maxpool layer:"
   ]
  },
  {
   "cell_type": "code",
   "execution_count": 0,
   "metadata": {
    "colab": {},
    "colab_type": "code",
    "id": "5ZzF6QJp8B3g"
   },
   "outputs": [],
   "source": [
    "fmnist_model.add(tf.keras.layers.MaxPooling2D(pool_size=2,strides=2))"
   ]
  },
  {
   "cell_type": "markdown",
   "metadata": {
    "colab_type": "text",
    "id": "uTyUj9s5-mB1"
   },
   "source": [
    "batch normalization(Optional/It speeds up training):"
   ]
  },
  {
   "cell_type": "code",
   "execution_count": 0,
   "metadata": {
    "colab": {},
    "colab_type": "code",
    "id": "DFWWMdX5-mY1"
   },
   "outputs": [],
   "source": [
    "fmnist_model.add(tf.keras.layers.BatchNormalization())"
   ]
  },
  {
   "cell_type": "markdown",
   "metadata": {
    "colab_type": "text",
    "id": "rO8fOrxU86Fu"
   },
   "source": [
    "Adding dropout to our model for regularisation (optional):"
   ]
  },
  {
   "cell_type": "code",
   "execution_count": 0,
   "metadata": {
    "colab": {},
    "colab_type": "code",
    "id": "l6qZhXFs84wS"
   },
   "outputs": [],
   "source": [
    "fmnist_model.add(tf.keras.layers.Dropout(0.25))\n",
    "#dropout parameter is float between 0 and 1. Fraction of the input units to drop."
   ]
  },
  {
   "cell_type": "markdown",
   "metadata": {
    "colab_type": "text",
    "id": "lsN7g8k38rZb"
   },
   "source": [
    "Adding second conv layer to our model:"
   ]
  },
  {
   "cell_type": "code",
   "execution_count": 0,
   "metadata": {
    "colab": {},
    "colab_type": "code",
    "id": "ug5rijfg8XFA"
   },
   "outputs": [],
   "source": [
    "fmnist_model.add(tf.keras.layers.Conv2D(filters=32,kernel_size=3,padding='same',activation='relu'))"
   ]
  },
  {
   "cell_type": "markdown",
   "metadata": {
    "colab_type": "text",
    "id": "fJ6AAZB_A5v5"
   },
   "source": [
    "Adding 2nd max pool layer:"
   ]
  },
  {
   "cell_type": "code",
   "execution_count": 0,
   "metadata": {
    "colab": {},
    "colab_type": "code",
    "id": "LJwUKMU7AopI"
   },
   "outputs": [],
   "source": [
    "fmnist_model.add(tf.keras.layers.MaxPooling2D(pool_size=2,strides=2))"
   ]
  },
  {
   "cell_type": "markdown",
   "metadata": {
    "colab_type": "text",
    "id": "d5mOIpMIBYJz"
   },
   "source": [
    "implementing batch normalization on second layer(Optional/It speeds up training):"
   ]
  },
  {
   "cell_type": "code",
   "execution_count": 0,
   "metadata": {
    "colab": {},
    "colab_type": "code",
    "id": "GQ1KMEeBBPU3"
   },
   "outputs": [],
   "source": [
    "fmnist_model.add(tf.keras.layers.BatchNormalization())"
   ]
  },
  {
   "cell_type": "markdown",
   "metadata": {
    "colab_type": "text",
    "id": "EUOWpFuAB9ua"
   },
   "source": [
    "adding dropout to our model for regularization(optional):"
   ]
  },
  {
   "cell_type": "code",
   "execution_count": 0,
   "metadata": {
    "colab": {},
    "colab_type": "code",
    "id": "to4fcxuXCBi_"
   },
   "outputs": [],
   "source": [
    "fmnist_model.add(tf.keras.layers.Dropout(0.25))\n",
    "#dropout parameter is float between 0 and 1. Fraction of the input units to drop."
   ]
  },
  {
   "cell_type": "markdown",
   "metadata": {
    "colab_type": "text",
    "id": "D34J6iy0CWt9"
   },
   "source": [
    "adding third conv layer with batch normalization and dropout:"
   ]
  },
  {
   "cell_type": "code",
   "execution_count": 0,
   "metadata": {
    "colab": {},
    "colab_type": "code",
    "id": "-6K-gaG2CZM1"
   },
   "outputs": [],
   "source": [
    "fmnist_model.add(tf.keras.layers.Conv2D(filters=32,kernel_size=3,padding='same',activation='relu'))\n",
    "fmnist_model.add(tf.keras.layers.MaxPooling2D(pool_size=2,strides=2))\n",
    "fmnist_model.add(tf.keras.layers.BatchNormalization())\n",
    "fmnist_model.add(tf.keras.layers.Dropout(0.25))"
   ]
  },
  {
   "cell_type": "markdown",
   "metadata": {
    "colab_type": "text",
    "id": "AhW7R2TvDzV9"
   },
   "source": [
    "Flatten and feed it as input to fully connected layer. Also adding a dropout and relu. Softmax for outer layer for 10 class classification:"
   ]
  },
  {
   "cell_type": "code",
   "execution_count": 0,
   "metadata": {
    "colab": {},
    "colab_type": "code",
    "id": "dt93czyTCf-F"
   },
   "outputs": [],
   "source": [
    "fmnist_model.add(tf.keras.layers.Flatten())\n",
    "fmnist_model.add(tf.keras.layers.Dense(288, activation='relu'))\n",
    "fmnist_model.add(tf.keras.layers.Dropout(0.25))\n",
    "fmnist_model.add(tf.keras.layers.Dense(10, activation='softmax'))"
   ]
  },
  {
   "cell_type": "markdown",
   "metadata": {
    "colab_type": "text",
    "id": "IvF2ZE6fFdnr"
   },
   "source": [
    "Fashion MNIST Model Summary:"
   ]
  },
  {
   "cell_type": "code",
   "execution_count": 95,
   "metadata": {
    "colab": {
     "base_uri": "https://localhost:8080/",
     "height": 712
    },
    "colab_type": "code",
    "id": "F1f7FWYnFd3P",
    "outputId": "b0439b6e-2991-4f2d-8f3d-8a2eddd3cb48"
   },
   "outputs": [
    {
     "name": "stdout",
     "output_type": "stream",
     "text": [
      "Model: \"sequential_8\"\n",
      "_________________________________________________________________\n",
      "Layer (type)                 Output Shape              Param #   \n",
      "=================================================================\n",
      "conv2d_15 (Conv2D)           (None, 28, 28, 32)        320       \n",
      "_________________________________________________________________\n",
      "max_pooling2d_15 (MaxPooling (None, 14, 14, 32)        0         \n",
      "_________________________________________________________________\n",
      "batch_normalization_11 (Batc (None, 14, 14, 32)        128       \n",
      "_________________________________________________________________\n",
      "dropout_15 (Dropout)         (None, 14, 14, 32)        0         \n",
      "_________________________________________________________________\n",
      "conv2d_16 (Conv2D)           (None, 14, 14, 32)        9248      \n",
      "_________________________________________________________________\n",
      "max_pooling2d_16 (MaxPooling (None, 7, 7, 32)          0         \n",
      "_________________________________________________________________\n",
      "batch_normalization_12 (Batc (None, 7, 7, 32)          128       \n",
      "_________________________________________________________________\n",
      "dropout_16 (Dropout)         (None, 7, 7, 32)          0         \n",
      "_________________________________________________________________\n",
      "conv2d_17 (Conv2D)           (None, 7, 7, 32)          9248      \n",
      "_________________________________________________________________\n",
      "max_pooling2d_17 (MaxPooling (None, 3, 3, 32)          0         \n",
      "_________________________________________________________________\n",
      "batch_normalization_13 (Batc (None, 3, 3, 32)          128       \n",
      "_________________________________________________________________\n",
      "dropout_17 (Dropout)         (None, 3, 3, 32)          0         \n",
      "_________________________________________________________________\n",
      "flatten_4 (Flatten)          (None, 288)               0         \n",
      "_________________________________________________________________\n",
      "dense_7 (Dense)              (None, 288)               83232     \n",
      "_________________________________________________________________\n",
      "dropout_18 (Dropout)         (None, 288)               0         \n",
      "_________________________________________________________________\n",
      "dense_8 (Dense)              (None, 10)                2890      \n",
      "=================================================================\n",
      "Total params: 105,322\n",
      "Trainable params: 105,130\n",
      "Non-trainable params: 192\n",
      "_________________________________________________________________\n"
     ]
    }
   ],
   "source": [
    "fmnist_model.summary()"
   ]
  },
  {
   "cell_type": "markdown",
   "metadata": {
    "colab_type": "text",
    "id": "TGrP0AibFpNF"
   },
   "source": [
    "Compiling the the above three conv and one fully connected layer:"
   ]
  },
  {
   "cell_type": "code",
   "execution_count": 0,
   "metadata": {
    "colab": {},
    "colab_type": "code",
    "id": "b8H8hIraFpad"
   },
   "outputs": [],
   "source": [
    "fmnist_model.compile(loss='categorical_crossentropy',\n",
    "             optimizer='adam',\n",
    "             metrics=['accuracy'])"
   ]
  },
  {
   "cell_type": "markdown",
   "metadata": {
    "colab_type": "text",
    "id": "q_xMR4zqF46n"
   },
   "source": [
    "Training the above model with hyperparameter batch size of 32 and number of epochs= 10"
   ]
  },
  {
   "cell_type": "code",
   "execution_count": 110,
   "metadata": {
    "colab": {
     "base_uri": "https://localhost:8080/",
     "height": 399
    },
    "colab_type": "code",
    "id": "dsa41Om1F5IU",
    "outputId": "7e30cd22-d111-44b4-cc10-29933ec043b8"
   },
   "outputs": [
    {
     "name": "stdout",
     "output_type": "stream",
     "text": [
      "Train on 60000 samples, validate on 10000 samples\n",
      "Epoch 1/10\n",
      "60000/60000 [==============================] - 10s 169us/sample - loss: 0.2639 - acc: 0.9017 - val_loss: 18.2009 - val_acc: 0.1023\n",
      "Epoch 2/10\n",
      "60000/60000 [==============================] - 10s 168us/sample - loss: 0.2599 - acc: 0.9028 - val_loss: 0.9959 - val_acc: 0.7093\n",
      "Epoch 3/10\n",
      "60000/60000 [==============================] - 10s 168us/sample - loss: 0.2595 - acc: 0.9035 - val_loss: 48.3545 - val_acc: 0.1441\n",
      "Epoch 4/10\n",
      "60000/60000 [==============================] - 10s 167us/sample - loss: 0.2567 - acc: 0.9046 - val_loss: 2.9675 - val_acc: 0.4409\n",
      "Epoch 5/10\n",
      "60000/60000 [==============================] - 10s 167us/sample - loss: 0.2543 - acc: 0.9043 - val_loss: 3.2602 - val_acc: 0.3210\n",
      "Epoch 6/10\n",
      "60000/60000 [==============================] - 10s 167us/sample - loss: 0.2536 - acc: 0.9044 - val_loss: 2.7431 - val_acc: 0.3531\n",
      "Epoch 7/10\n",
      "60000/60000 [==============================] - 10s 168us/sample - loss: 0.2513 - acc: 0.9061 - val_loss: 10.1139 - val_acc: 0.2626\n",
      "Epoch 8/10\n",
      "60000/60000 [==============================] - 10s 169us/sample - loss: 0.2591 - acc: 0.9034 - val_loss: 2.8399 - val_acc: 0.4963\n",
      "Epoch 9/10\n",
      "60000/60000 [==============================] - 10s 168us/sample - loss: 0.2578 - acc: 0.9057 - val_loss: 8.8320 - val_acc: 0.1344\n",
      "Epoch 10/10\n",
      "60000/60000 [==============================] - 10s 167us/sample - loss: 0.2536 - acc: 0.9048 - val_loss: 0.2434 - val_acc: 0.9115\n"
     ]
    },
    {
     "data": {
      "text/plain": [
       "<tensorflow.python.keras.callbacks.History at 0x7fe9801a5eb8>"
      ]
     },
     "execution_count": 110,
     "metadata": {
      "tags": []
     },
     "output_type": "execute_result"
    }
   ],
   "source": [
    "fmnist_model.fit(train_data,\n",
    "         train_labels,\n",
    "         batch_size=32,\n",
    "         epochs=10,\n",
    "         verbose=1,\n",
    "         validation_data=(eval_data, eval_labels))"
   ]
  },
  {
   "cell_type": "markdown",
   "metadata": {
    "colab_type": "text",
    "id": "lt4Z03WKGLo6"
   },
   "source": [
    "Evaluating the model on test data:"
   ]
  },
  {
   "cell_type": "code",
   "execution_count": 111,
   "metadata": {
    "colab": {
     "base_uri": "https://localhost:8080/",
     "height": 69
    },
    "colab_type": "code",
    "id": "Zi21OuQXGL6M",
    "outputId": "d01191f6-0ded-4cf6-f79d-d9d9269559b9"
   },
   "outputs": [
    {
     "name": "stdout",
     "output_type": "stream",
     "text": [
      "10000/10000 [==============================] - 1s 80us/sample - loss: 0.2434 - acc: 0.9115\n",
      "\n",
      " Test accuracy: 0.9115\n"
     ]
    }
   ],
   "source": [
    "\n",
    "score = fmnist_model.evaluate(eval_data, eval_labels, verbose=1)\n",
    "\n",
    "# Print test accuracy\n",
    "print('\\n', 'Test accuracy:', score[1])"
   ]
  },
  {
   "cell_type": "code",
   "execution_count": 135,
   "metadata": {
    "colab": {
     "base_uri": "https://localhost:8080/",
     "height": 416
    },
    "colab_type": "code",
    "id": "t3RkICJRO9kS",
    "outputId": "81a89067-469b-40ac-d138-207c2132485a"
   },
   "outputs": [
    {
     "name": "stdout",
     "output_type": "stream",
     "text": [
      "Train on 60000 samples, validate on 10000 samples\n",
      "Epoch 1/10\n",
      "60000/60000 [==============================] - 10s 171us/sample - loss: 0.2347 - acc: 0.9119 - val_loss: 0.5810 - val_acc: 0.8097\n",
      "Epoch 2/10\n",
      "60000/60000 [==============================] - 10s 166us/sample - loss: 0.2334 - acc: 0.9105 - val_loss: 1.8957 - val_acc: 0.4261\n",
      "Epoch 3/10\n",
      "60000/60000 [==============================] - 10s 166us/sample - loss: 0.2325 - acc: 0.9128 - val_loss: 4.7252 - val_acc: 0.4949\n",
      "Epoch 4/10\n",
      "60000/60000 [==============================] - 10s 166us/sample - loss: 0.2331 - acc: 0.9128 - val_loss: 1.9326 - val_acc: 0.4953\n",
      "Epoch 5/10\n",
      "60000/60000 [==============================] - 10s 167us/sample - loss: 0.2325 - acc: 0.9127 - val_loss: 4.2564 - val_acc: 0.2371\n",
      "Epoch 6/10\n",
      "60000/60000 [==============================] - 10s 165us/sample - loss: 0.2318 - acc: 0.9125 - val_loss: 11.9247 - val_acc: 0.1098\n",
      "Epoch 7/10\n",
      "60000/60000 [==============================] - 10s 165us/sample - loss: 0.2308 - acc: 0.9131 - val_loss: 10.7349 - val_acc: 0.1029\n",
      "Epoch 8/10\n",
      "60000/60000 [==============================] - 10s 167us/sample - loss: 0.2318 - acc: 0.9139 - val_loss: 0.4369 - val_acc: 0.8284\n",
      "Epoch 9/10\n",
      "60000/60000 [==============================] - 10s 165us/sample - loss: 0.2304 - acc: 0.9132 - val_loss: 1.8458 - val_acc: 0.4943\n",
      "Epoch 10/10\n",
      "60000/60000 [==============================] - 10s 165us/sample - loss: 0.2457 - acc: 0.9084 - val_loss: 11.3084 - val_acc: 0.4114\n",
      "Epoch 00010: early stopping\n"
     ]
    },
    {
     "data": {
      "text/plain": [
       "<tensorflow.python.keras.callbacks.History at 0x7fe980196978>"
      ]
     },
     "execution_count": 135,
     "metadata": {
      "tags": []
     },
     "output_type": "execute_result"
    }
   ],
   "source": [
    "#Early stopping using keras callback\n",
    "from tensorflow.keras.callbacks import EarlyStopping\n",
    "\n",
    "earlyStop=EarlyStopping(monitor=\"val_acc\",verbose=1,mode='min',patience=3)\n",
    "fmnist_model.fit(train_data,\n",
    "         train_labels,\n",
    "         batch_size=32,\n",
    "         epochs=10,\n",
    "         validation_data=(eval_data, eval_labels),\n",
    "         callbacks=[earlyStop])"
   ]
  },
  {
   "cell_type": "code",
   "execution_count": 136,
   "metadata": {
    "colab": {
     "base_uri": "https://localhost:8080/",
     "height": 34
    },
    "colab_type": "code",
    "id": "sxKXB82pVMdZ",
    "outputId": "e288a3d5-ddd0-42a2-cdda-27f6eef4a156"
   },
   "outputs": [
    {
     "name": "stdout",
     "output_type": "stream",
     "text": [
      "10000/10000 [==============================] - 1s 80us/sample - loss: 11.3084 - acc: 0.4114\n"
     ]
    }
   ],
   "source": [
    "score1=fmnist_model.evaluate(eval_data, eval_labels, verbose=1)"
   ]
  },
  {
   "cell_type": "code",
   "execution_count": 137,
   "metadata": {
    "colab": {
     "base_uri": "https://localhost:8080/",
     "height": 52
    },
    "colab_type": "code",
    "id": "0ZX_q02-VTKG",
    "outputId": "b2340b2b-6a6e-4849-907a-ddd30673ee0e"
   },
   "outputs": [
    {
     "name": "stdout",
     "output_type": "stream",
     "text": [
      "Test data loss: 11.308396784973144\n",
      "Test data accuracy: 0.4114\n"
     ]
    }
   ],
   "source": [
    "#print loss and accuracy on test data\n",
    "print('Test data loss:', score1[0])\n",
    "print('Test data accuracy:', score1[1])"
   ]
  },
  {
   "cell_type": "code",
   "execution_count": 0,
   "metadata": {
    "colab": {},
    "colab_type": "code",
    "id": "INEA6J_XSAnt"
   },
   "outputs": [],
   "source": [
    "from tensorflow.keras.callbacks import ReduceLROnPlateau"
   ]
  },
  {
   "cell_type": "code",
   "execution_count": 128,
   "metadata": {
    "colab": {
     "base_uri": "https://localhost:8080/",
     "height": 416
    },
    "colab_type": "code",
    "id": "g3w-muMhSQzQ",
    "outputId": "537449fd-f079-4017-9864-5a8c36ba903d"
   },
   "outputs": [
    {
     "name": "stderr",
     "output_type": "stream",
     "text": [
      "W0618 11:26:44.172710 140642790233984 callbacks.py:1791] `epsilon` argument is deprecated and will be removed, use `min_delta` instead.\n"
     ]
    },
    {
     "name": "stdout",
     "output_type": "stream",
     "text": [
      "Train on 60000 samples, validate on 10000 samples\n",
      "Epoch 1/10\n",
      "60000/60000 [==============================] - 10s 170us/sample - loss: 0.2411 - acc: 0.9107 - val_loss: 5.8269 - val_acc: 0.1454\n",
      "Epoch 2/10\n",
      "60000/60000 [==============================] - 10s 165us/sample - loss: 0.2403 - acc: 0.9105 - val_loss: 1.9232 - val_acc: 0.6359\n",
      "Epoch 3/10\n",
      "60000/60000 [==============================] - 10s 167us/sample - loss: 0.2414 - acc: 0.9099 - val_loss: 4.7686 - val_acc: 0.4708\n",
      "Epoch 4/10\n",
      "60000/60000 [==============================] - 10s 169us/sample - loss: 0.2366 - acc: 0.9116 - val_loss: 6.0719 - val_acc: 0.2498\n",
      "Epoch 5/10\n",
      "60000/60000 [==============================] - 10s 165us/sample - loss: 0.2377 - acc: 0.9104 - val_loss: 5.4876 - val_acc: 0.2937\n",
      "Epoch 6/10\n",
      "60000/60000 [==============================] - 10s 166us/sample - loss: 0.2384 - acc: 0.9100 - val_loss: 6.7707 - val_acc: 0.3633\n",
      "Epoch 7/10\n",
      "60000/60000 [==============================] - 10s 167us/sample - loss: 0.2365 - acc: 0.9116 - val_loss: 9.4485 - val_acc: 0.1213\n",
      "Epoch 8/10\n",
      "60000/60000 [==============================] - 10s 166us/sample - loss: 0.2346 - acc: 0.9123 - val_loss: 50.1682 - val_acc: 0.1001\n",
      "Epoch 9/10\n",
      "60000/60000 [==============================] - 10s 165us/sample - loss: 0.2350 - acc: 0.9117 - val_loss: 1.6103 - val_acc: 0.6017\n",
      "Epoch 10/10\n",
      "60000/60000 [==============================] - 10s 166us/sample - loss: 0.2359 - acc: 0.9105 - val_loss: 0.8130 - val_acc: 0.7394\n"
     ]
    },
    {
     "data": {
      "text/plain": [
       "<tensorflow.python.keras.callbacks.History at 0x7fe9800f7978>"
      ]
     },
     "execution_count": 128,
     "metadata": {
      "tags": []
     },
     "output_type": "execute_result"
    }
   ],
   "source": [
    "#ReduceLRonPlateau using keras callback\n",
    "reduce_lr = ReduceLROnPlateau(monitor='val_loss', factor=0.1, patience=10, verbose=1, epsilon=1e-4, mode='min')\n",
    "fmnist_model.fit(train_data,\n",
    "         train_labels,\n",
    "         batch_size=32,\n",
    "         epochs=10,\n",
    "         validation_data=(eval_data, eval_labels),\n",
    "         callbacks=[reduce_lr])"
   ]
  },
  {
   "cell_type": "code",
   "execution_count": 129,
   "metadata": {
    "colab": {
     "base_uri": "https://localhost:8080/",
     "height": 34
    },
    "colab_type": "code",
    "id": "5gervCu6S2M9",
    "outputId": "69b9b23a-b2ec-4dea-ed15-0c2a7f047590"
   },
   "outputs": [
    {
     "name": "stdout",
     "output_type": "stream",
     "text": [
      "10000/10000 [==============================] - 1s 75us/sample - loss: 0.8130 - acc: 0.7394\n"
     ]
    }
   ],
   "source": [
    "score2 = fmnist_model.evaluate(eval_data, eval_labels, verbose=1)"
   ]
  },
  {
   "cell_type": "code",
   "execution_count": 130,
   "metadata": {
    "colab": {
     "base_uri": "https://localhost:8080/",
     "height": 52
    },
    "colab_type": "code",
    "id": "FW5n67u-S4ur",
    "outputId": "edf2ea31-f6a6-449d-fa88-f5028dffdb85"
   },
   "outputs": [
    {
     "name": "stdout",
     "output_type": "stream",
     "text": [
      "Test data loss: 0.8130333958625794\n",
      "Test data accuracy: 0.7394\n"
     ]
    }
   ],
   "source": [
    "#print loss and accuracy on test data\n",
    "print('Test data loss:', score2[0])\n",
    "print('Test data accuracy:', score2[1])"
   ]
  },
  {
   "cell_type": "markdown",
   "metadata": {
    "colab_type": "text",
    "id": "7suS4sJfZj7T"
   },
   "source": [
    "We can observe that on early stopping and reduceLRonPlateau the accuracy of the model is less than the fully trained model."
   ]
  },
  {
   "cell_type": "code",
   "execution_count": 0,
   "metadata": {
    "colab": {},
    "colab_type": "code",
    "id": "wbTiC_DZTyGq"
   },
   "outputs": [],
   "source": []
  }
 ],
 "metadata": {
  "accelerator": "GPU",
  "colab": {
   "name": "resubmission.ipynb",
   "provenance": [],
   "version": "0.3.2"
  },
  "kernelspec": {
   "display_name": "Python 3",
   "language": "python",
   "name": "python3"
  },
  "language_info": {
   "codemirror_mode": {
    "name": "ipython",
    "version": 3
   },
   "file_extension": ".py",
   "mimetype": "text/x-python",
   "name": "python",
   "nbconvert_exporter": "python",
   "pygments_lexer": "ipython3",
   "version": "3.7.3"
  }
 },
 "nbformat": 4,
 "nbformat_minor": 1
}

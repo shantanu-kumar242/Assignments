{
 "cells": [
  {
   "cell_type": "code",
   "execution_count": 32,
   "metadata": {
    "colab": {
     "base_uri": "https://localhost:8080/",
     "height": 34
    },
    "colab_type": "code",
    "id": "dwTZXT3_MJf-",
    "outputId": "dde57817-0d50-4b43-c465-b4b9df5a47d6"
   },
   "outputs": [],
   "source": [
    "####Importing required packages#######\n",
    "import tensorflow as tf\n",
    "import keras\n",
    "import numpy as np\n",
    "import pandas as pd\n",
    "import matplotlib.pyplot as plt\n",
    "import cv2\n",
    "import seaborn as sns\n",
    "import skimage as sk\n",
    "from tensorflow.python.framework import ops\n",
    "import idx2numpy\n",
    "import matplotlib.pyplot as plt\n",
    "from tensorflow.examples.tutorials.mnist import input_data\n",
    "%matplotlib inline"
   ]
  },
  {
   "cell_type": "code",
   "execution_count": 33,
   "metadata": {},
   "outputs": [],
   "source": [
    "#Importing data\n",
    "tr_x='train-images-idx3-ubyte'\n",
    "tr_y='train-labels-idx1-ubyte'\n",
    "te_x='t10k-images-idx3-ubyte'\n",
    "te_y='t10k-labels-idx1-ubyte'"
   ]
  },
  {
   "cell_type": "code",
   "execution_count": 34,
   "metadata": {},
   "outputs": [],
   "source": [
    "#converting to numpy\n",
    "xtrain=idx2numpy.convert_from_file(tr_x)\n",
    "ytrain=idx2numpy.convert_from_file(tr_y)\n",
    "xtest=idx2numpy.convert_from_file(te_x)\n",
    "ytest=idx2numpy.convert_from_file(te_y)"
   ]
  },
  {
   "cell_type": "code",
   "execution_count": 35,
   "metadata": {},
   "outputs": [
    {
     "data": {
      "text/plain": [
       "<matplotlib.image.AxesImage at 0x7f15bd7db128>"
      ]
     },
     "execution_count": 35,
     "metadata": {},
     "output_type": "execute_result"
    },
    {
     "data": {
      "image/png": "[encoded data removed]",
      "text/plain": [
       "<Figure size 432x288 with 1 Axes>"
      ]
     },
     "metadata": {
      "needs_background": "light"
     },
     "output_type": "display_data"
    }
   ],
   "source": [
    "plt.imshow(xtrain[4])       #visualising few images "
   ]
  },
  {
   "cell_type": "code",
   "execution_count": 36,
   "metadata": {},
   "outputs": [
    {
     "data": {
      "text/plain": [
       "<matplotlib.image.AxesImage at 0x7f15baa17d68>"
      ]
     },
     "execution_count": 36,
     "metadata": {},
     "output_type": "execute_result"
    },
    {
     "data": {
      "image/png": "[encoded data removed]",
      "text/plain": [
       "<Figure size 432x288 with 1 Axes>"
      ]
     },
     "metadata": {
      "needs_background": "light"
     },
     "output_type": "display_data"
    }
   ],
   "source": [
    "plt.imshow(xtrain[6])    #visualising few images"
   ]
  },
  {
   "cell_type": "code",
   "execution_count": 37,
   "metadata": {},
   "outputs": [
    {
     "data": {
      "text/plain": [
       "(28, 28)"
      ]
     },
     "execution_count": 37,
     "metadata": {},
     "output_type": "execute_result"
    }
   ],
   "source": [
    "xtrain[78].shape   #Checking input size of image"
   ]
  },
  {
   "cell_type": "code",
   "execution_count": 38,
   "metadata": {},
   "outputs": [
    {
     "data": {
      "text/plain": [
       "<matplotlib.axes._subplots.AxesSubplot at 0x7f15ba9d5470>"
      ]
     },
     "execution_count": 38,
     "metadata": {},
     "output_type": "execute_result"
    },
    {
     "data": {
      "image/png": "[encoded data removed]",
      "text/plain": [
       "<Figure size 432x288 with 1 Axes>"
      ]
     },
     "metadata": {
      "needs_background": "light"
     },
     "output_type": "display_data"
    }
   ],
   "source": [
    "sns.countplot(ytrain)"
   ]
  },
  {
   "cell_type": "code",
   "execution_count": 39,
   "metadata": {},
   "outputs": [],
   "source": [
    "#As we can see there is no class imbalance."
   ]
  },
  {
   "cell_type": "code",
   "execution_count": 40,
   "metadata": {},
   "outputs": [
    {
     "name": "stdout",
     "output_type": "stream",
     "text": [
      "Training set (images) shape: (60000, 28, 28)\n",
      "Training set (labels) shape: (60000,)\n"
     ]
    }
   ],
   "source": [
    "# Shapes of training set\n",
    "print(\"Training set (images) shape: {shape}\".format(shape=xtrain.shape))\n",
    "print(\"Training set (labels) shape: {shape}\".format(shape=ytrain.shape))"
   ]
  },
  {
   "cell_type": "code",
   "execution_count": 41,
   "metadata": {},
   "outputs": [
    {
     "name": "stdout",
     "output_type": "stream",
     "text": [
      "Test set (images) shape: (10000, 28, 28)\n",
      "Test set (labels) shape: (10000,)\n"
     ]
    }
   ],
   "source": [
    "# Shapes of test set\n",
    "print(\"Test set (images) shape: {shape}\".format(shape=xtest.shape))\n",
    "print(\"Test set (labels) shape: {shape}\".format(shape=ytest.shape))"
   ]
  },
  {
   "cell_type": "code",
   "execution_count": 42,
   "metadata": {},
   "outputs": [],
   "source": [
    "# Functions for various type of augmentation \n",
    "def Rotation(img):\n",
    "    return sk.transform.rotate(img,45)\n",
    "\n",
    "def Color_invert(img):\n",
    "    return sk.util.invert(img)\n",
    "\n",
    "def Flip(img):\n",
    "    return np.flip(img)\n",
    "\n",
    "def Random_Noise(img):\n",
    "    return sk.util.random_noise(img)\n",
    "\n",
    "def Contrast_Change(img):\n",
    "    return sk.exposure.rescale_intensity(img, in_range=(20,100))\n",
    "\n",
    "def Gamma_Correction(img,gamma=0.5):\n",
    "    return sk.exposure.adjust_gamma(img,gamma)\n",
    "\n",
    "def Sigmoid_Correction(img):\n",
    "    return sk.exposure.adjust_sigmoid(img)\n"
   ]
  },
  {
   "cell_type": "code",
   "execution_count": 43,
   "metadata": {},
   "outputs": [],
   "source": [
    "# Function takes image array and integer as input and return corresponding augmented image \n",
    "\n",
    "def Augmentation(img, n):\n",
    "    if(n==0):\n",
    "        return Rotation(img)\n",
    "    elif(n==1):\n",
    "        return Color_invert(img)\n",
    "    elif(n==2):\n",
    "            return Flip(img)\n",
    "    elif(n==3):\n",
    "            return Random_Noise(img)\n",
    "    elif(n==4):\n",
    "            return Contrast_Change(img)\n",
    "    elif(n==5):\n",
    "            return Gamma_Correction(img)\n",
    "    elif(n==6):\n",
    "            return Sigmoid_Correction(img)\n",
    "    else:\n",
    "        return img\n"
   ]
  },
  {
   "cell_type": "code",
   "execution_count": 44,
   "metadata": {},
   "outputs": [],
   "source": [
    "Title = [\"Rotation\",\"Color_invert\",\"Flip\",\"Random_Noise\",\"Contrast_Change\",\"Gamma_Correction\",\"Sigmoid_Correction\"]"
   ]
  },
  {
   "cell_type": "code",
   "execution_count": 45,
   "metadata": {},
   "outputs": [
    {
     "data": {
      "image/png": "[encoded data removed]",
      "text/plain": [
       "<Figure size 2160x1440 with 8 Axes>"
      ]
     },
     "metadata": {},
     "output_type": "display_data"
    }
   ],
   "source": [
    "# Visualize augmented images \n",
    "\n",
    "plt.figure(figsize=(30,20))\n",
    "plt.subplot(2,4,1)\n",
    "plt.imshow(xtrain[5,:,:])\n",
    "plt.xticks([])\n",
    "plt.yticks([])\n",
    "plt.title(\"Original\")\n",
    "\n",
    "for i in range(7):\n",
    "    plt.subplot(2,4,i+2)\n",
    "    imx = Augmentation(xtrain[5,:,:],i)\n",
    "    plt.imshow(imx)\n",
    "    plt.xticks([])\n",
    "    plt.yticks([])\n",
    "    plt.title(Title[i])"
   ]
  },
  {
   "cell_type": "code",
   "execution_count": null,
   "metadata": {},
   "outputs": [],
   "source": [
    "############################################Part-2##################################################################"
   ]
  },
  {
   "cell_type": "code",
   "execution_count": 2,
   "metadata": {
    "colab": {},
    "colab_type": "code",
    "id": "naKeRsuvMJgN"
   },
   "outputs": [],
   "source": [
    "############Importing Fashion mnist data#############\n",
    "((train_data, train_labels),\n",
    " (eval_data, eval_labels)) = tf.keras.datasets.fashion_mnist.load_data()"
   ]
  },
  {
   "cell_type": "code",
   "execution_count": 3,
   "metadata": {
    "colab": {},
    "colab_type": "code",
    "id": "eRw5yzRpMJgU"
   },
   "outputs": [],
   "source": [
    "#Building labeled dictionary\n",
    "target_dict = {\n",
    " 0: 'T-shirt/top',\n",
    " 1: 'Trouser',\n",
    " 2: 'Pullover',\n",
    " 3: 'Dress',\n",
    " 4: 'Coat',\n",
    " 5: 'Sandal',\n",
    " 6: 'Shirt',\n",
    " 7: 'Sneaker',\n",
    " 8: 'Bag',\n",
    " 9: 'Ankle boot',\n",
    "}"
   ]
  },
  {
   "cell_type": "code",
   "execution_count": 4,
   "metadata": {
    "colab": {
     "base_uri": "https://localhost:8080/",
     "height": 52
    },
    "colab_type": "code",
    "id": "Tk7q-a2LMJgb",
    "outputId": "9a32cda3-5ad5-473d-9f0c-4c85d83beb06"
   },
   "outputs": [
    {
     "name": "stdout",
     "output_type": "stream",
     "text": [
      "(60000, 28, 28)\n",
      "(10000, 28, 28)\n"
     ]
    }
   ],
   "source": [
    "#Printing dimension of image\n",
    "print(train_data.shape)\n",
    "print(eval_data.shape)"
   ]
  },
  {
   "cell_type": "code",
   "execution_count": 5,
   "metadata": {
    "colab": {
     "base_uri": "https://localhost:8080/",
     "height": 482
    },
    "colab_type": "code",
    "id": "D8A-FnkYMJgm",
    "outputId": "2650f95a-88b4-4803-fd27-1a64531e155d"
   },
   "outputs": [
    {
     "data": {
      "image/png": "[encoded data removed]",
      "text/plain": [
       "<Figure size 720x720 with 20 Axes>"
      ]
     },
     "metadata": {},
     "output_type": "display_data"
    }
   ],
   "source": [
    "#Plotting few image samples\n",
    "plt.figure(figsize=(10,10))\n",
    "for i in range(0,20):\n",
    "    plt.subplot(5,5, i+1)\n",
    "    plt.imshow(train_data[i] )\n",
    "    plt.title( target_dict[(train_labels[i]) ])\n",
    "    plt.xticks([])\n",
    "    plt.yticks([])"
   ]
  },
  {
   "cell_type": "code",
   "execution_count": 6,
   "metadata": {
    "colab": {},
    "colab_type": "code",
    "id": "riUiGbUyMJgu"
   },
   "outputs": [],
   "source": [
    "#Normalizing dataset\n",
    "train_data = train_data/np.float32(255)\n",
    "train_labels = train_labels.astype(np.int32)\n",
    "\n",
    "eval_data = eval_data/np.float32(255)\n",
    "eval_labels = eval_labels.astype(np.int32)"
   ]
  },
  {
   "cell_type": "code",
   "execution_count": 7,
   "metadata": {
    "colab": {},
    "colab_type": "code",
    "id": "m3oOCoDbMJgz"
   },
   "outputs": [],
   "source": [
    "#CNN Model function \n",
    "def cnn_model(features, labels, mode):\n",
    "    #Reshapinng the input\n",
    "    input_layer = tf.reshape(features[\"x\"], [-1, 28, 28, 1])\n",
    "    \n",
    "     # Convolutional Layer #1 and Pooling Layer #1\n",
    "    conv1 = tf.layers.conv2d(\n",
    "        inputs=input_layer,\n",
    "        filters=32,\n",
    "        kernel_size=[5, 5],\n",
    "        padding=\"same\",\n",
    "        activation=tf.nn.relu)\n",
    "    \n",
    "    pool1 = tf.layers.max_pooling2d(inputs=conv1, pool_size=[2, 2], strides=2)\n",
    "    \n",
    "    # Convolutional Layer #2 and Pooling Layer #2\n",
    "    conv2 = tf.layers.conv2d(\n",
    "          inputs=pool1,\n",
    "          filters=64,\n",
    "          kernel_size=[5, 5],\n",
    "          padding=\"same\",\n",
    "          activation=tf.nn.relu)\n",
    "    \n",
    "    pool2 = tf.layers.max_pooling2d(inputs=conv2, pool_size=[2, 2], strides=2)\n",
    "    \n",
    "    #dropout_1 = tf.layers.dropout(inputs=pool2, rate=0.25,training=mode == tf.estimator.ModeKeys.TRAIN )\n",
    "    \n",
    "    # Convolutional Layer #2 and Pooling Layer #2\n",
    "    conv3 = tf.layers.conv2d(\n",
    "          inputs= pool2,\n",
    "          filters=128,\n",
    "          kernel_size=[5, 5],\n",
    "        \n",
    "          padding=\"same\",\n",
    "          activation=tf.nn.relu)\n",
    "    \n",
    "    pool3 = tf.layers.max_pooling2d(inputs=conv3, pool_size=[2, 2], strides=2)\n",
    "    \n",
    "    #dropout_2 = tf.layers.dropout(inputs=pool3, rate=0.25,training=mode == tf.estimator.ModeKeys.TRAIN )\n",
    "       \n",
    "    flatten_1= tf.reshape(pool3, [-1, 3*3*128])\n",
    "    \n",
    "    dense = tf.layers.dense(inputs= flatten_1,units=1024,activation=tf.nn.relu)\n",
    "    \n",
    "    #dropout= tf.layers.dropout(inputs=dense, rate=0.4, training=mode == tf.estimator.ModeKeys.TRAIN)\n",
    "    \n",
    "    output_layer = tf.layers.dense(inputs= dense, units=10)\n",
    "    predictions={\n",
    "    \"classes\":tf.argmax(input=output_layer, axis=1),\n",
    "    \"probabilities\":tf.nn.softmax(output_layer,name='softmax_tensor')\n",
    "    }\n",
    "    if mode==tf.estimator.ModeKeys.PREDICT:\n",
    "        return tf.estimator.EstimatorSpec(mode=mode, predictions=predictions)\n",
    "    \n",
    "    loss= tf.losses.sparse_softmax_cross_entropy(labels=labels, logits= output_layer, scope='loss')\n",
    "    \n",
    "    if mode== tf.estimator.ModeKeys.TRAIN:\n",
    "        optimizer= tf.train.AdamOptimizer(learning_rate=0.001)\n",
    "        train_op= optimizer.minimize(loss=loss, global_step=tf.train.get_global_step())\n",
    "        return tf.estimator.EstimatorSpec(mode=mode, loss=loss,train_op=train_op )\n",
    "    \n",
    "    eval_metrics_op={ \"accuracy\":tf.metrics.accuracy(labels=labels,predictions=predictions[\"classes\"])}\n",
    "    return tf.estimator.EstimatorSpec(mode=mode, loss=loss, eval_metric_ops=eval_metrics_op)"
   ]
  },
  {
   "cell_type": "code",
   "execution_count": 8,
   "metadata": {
    "colab": {
     "base_uri": "https://localhost:8080/",
     "height": 34
    },
    "colab_type": "code",
    "id": "OCdnAp5BMJg5",
    "outputId": "a94ac2e1-5139-4831-fcc7-63d98e86be0c"
   },
   "outputs": [
    {
     "name": "stdout",
     "output_type": "stream",
     "text": [
      "INFO:tensorflow:Using default config.\n",
      "WARNING:tensorflow:Using temporary folder as model directory: /tmp/tmpk01e_377\n",
      "INFO:tensorflow:Using config: {'_model_dir': '/tmp/tmpk01e_377', '_tf_random_seed': None, '_save_summary_steps': 100, '_save_checkpoints_steps': None, '_save_checkpoints_secs': 600, '_session_config': allow_soft_placement: true\n",
      "graph_options {\n",
      "  rewrite_options {\n",
      "    meta_optimizer_iterations: ONE\n",
      "  }\n",
      "}\n",
      ", '_keep_checkpoint_max': 5, '_keep_checkpoint_every_n_hours': 10000, '_log_step_count_steps': 100, '_train_distribute': None, '_device_fn': None, '_protocol': None, '_eval_distribute': None, '_experimental_distribute': None, '_service': None, '_cluster_spec': <tensorflow.python.training.server_lib.ClusterSpec object at 0x7f16916c2be0>, '_task_type': 'worker', '_task_id': 0, '_global_id_in_cluster': 0, '_master': '', '_evaluation_master': '', '_is_chief': True, '_num_ps_replicas': 0, '_num_worker_replicas': 1}\n"
     ]
    }
   ],
   "source": [
    "fashion_classifier = tf.estimator.Estimator(model_fn = cnn_model)"
   ]
  },
  {
   "cell_type": "code",
   "execution_count": 9,
   "metadata": {
    "colab": {
     "base_uri": "https://localhost:8080/",
     "height": 34
    },
    "colab_type": "code",
    "id": "MtK2CMMzMJhA",
    "outputId": "332f6724-e34c-4e76-945f-4b19984582ea"
   },
   "outputs": [
    {
     "name": "stdout",
     "output_type": "stream",
     "text": [
      "WARNING:tensorflow:From /home/shantanu/anaconda3/lib/python3.7/site-packages/tensorflow/python/framework/op_def_library.py:263: colocate_with (from tensorflow.python.framework.ops) is deprecated and will be removed in a future version.\n",
      "Instructions for updating:\n",
      "Colocations handled automatically by placer.\n",
      "WARNING:tensorflow:From /home/shantanu/anaconda3/lib/python3.7/site-packages/tensorflow_estimator/python/estimator/inputs/queues/feeding_queue_runner.py:62: QueueRunner.__init__ (from tensorflow.python.training.queue_runner_impl) is deprecated and will be removed in a future version.\n",
      "Instructions for updating:\n",
      "To construct input pipelines, use the `tf.data` module.\n",
      "WARNING:tensorflow:From /home/shantanu/anaconda3/lib/python3.7/site-packages/tensorflow_estimator/python/estimator/inputs/queues/feeding_functions.py:500: add_queue_runner (from tensorflow.python.training.queue_runner_impl) is deprecated and will be removed in a future version.\n",
      "Instructions for updating:\n",
      "To construct input pipelines, use the `tf.data` module.\n",
      "INFO:tensorflow:Calling model_fn.\n",
      "WARNING:tensorflow:From <ipython-input-7-62c5a3443e6f>:12: conv2d (from tensorflow.python.layers.convolutional) is deprecated and will be removed in a future version.\n",
      "Instructions for updating:\n",
      "Use keras.layers.conv2d instead.\n",
      "WARNING:tensorflow:From <ipython-input-7-62c5a3443e6f>:14: max_pooling2d (from tensorflow.python.layers.pooling) is deprecated and will be removed in a future version.\n",
      "Instructions for updating:\n",
      "Use keras.layers.max_pooling2d instead.\n",
      "WARNING:tensorflow:From <ipython-input-7-62c5a3443e6f>:43: dense (from tensorflow.python.layers.core) is deprecated and will be removed in a future version.\n",
      "Instructions for updating:\n",
      "Use keras.layers.dense instead.\n",
      "WARNING:tensorflow:From /home/shantanu/anaconda3/lib/python3.7/site-packages/tensorflow/python/ops/losses/losses_impl.py:209: to_float (from tensorflow.python.ops.math_ops) is deprecated and will be removed in a future version.\n",
      "Instructions for updating:\n",
      "Use tf.cast instead.\n",
      "INFO:tensorflow:Done calling model_fn.\n",
      "INFO:tensorflow:Create CheckpointSaverHook.\n",
      "INFO:tensorflow:Graph was finalized.\n",
      "INFO:tensorflow:Running local_init_op.\n",
      "INFO:tensorflow:Done running local_init_op.\n",
      "WARNING:tensorflow:From /home/shantanu/anaconda3/lib/python3.7/site-packages/tensorflow/python/training/monitored_session.py:809: start_queue_runners (from tensorflow.python.training.queue_runner_impl) is deprecated and will be removed in a future version.\n",
      "Instructions for updating:\n",
      "To construct input pipelines, use the `tf.data` module.\n",
      "INFO:tensorflow:Saving checkpoints for 0 into /tmp/tmpk01e_377/model.ckpt.\n",
      "INFO:tensorflow:loss = 2.2924566, step = 1\n",
      "INFO:tensorflow:global_step/sec: 15.8919\n",
      "INFO:tensorflow:loss = 0.6098117, step = 101 (6.351 sec)\n",
      "INFO:tensorflow:global_step/sec: 15.3646\n",
      "INFO:tensorflow:loss = 0.3468567, step = 201 (6.451 sec)\n",
      "INFO:tensorflow:global_step/sec: 16.3244\n",
      "INFO:tensorflow:loss = 0.5497788, step = 301 (6.125 sec)\n",
      "INFO:tensorflow:global_step/sec: 15.8974\n",
      "INFO:tensorflow:loss = 0.23304856, step = 401 (6.290 sec)\n",
      "INFO:tensorflow:global_step/sec: 16.7397\n",
      "INFO:tensorflow:loss = 0.5172456, step = 501 (5.974 sec)\n",
      "INFO:tensorflow:global_step/sec: 14.3127\n",
      "INFO:tensorflow:loss = 0.41088936, step = 601 (6.987 sec)\n",
      "INFO:tensorflow:global_step/sec: 15.1223\n",
      "INFO:tensorflow:loss = 0.47839886, step = 701 (6.612 sec)\n",
      "INFO:tensorflow:global_step/sec: 14.9271\n",
      "INFO:tensorflow:loss = 0.48510447, step = 801 (6.699 sec)\n",
      "INFO:tensorflow:global_step/sec: 14.4853\n",
      "INFO:tensorflow:loss = 0.27212965, step = 901 (6.903 sec)\n",
      "INFO:tensorflow:Saving checkpoints for 1000 into /tmp/tmpk01e_377/model.ckpt.\n",
      "INFO:tensorflow:Loss for final step: 0.5387207.\n"
     ]
    },
    {
     "data": {
      "text/plain": [
       "<tensorflow_estimator.python.estimator.estimator.Estimator at 0x7f16916c2d68>"
      ]
     },
     "execution_count": 9,
     "metadata": {},
     "output_type": "execute_result"
    }
   ],
   "source": [
    "# Training the model without dropout\n",
    "train_input_fn = tf.estimator.inputs.numpy_input_fn(\n",
    "    x={\"x\": train_data},\n",
    "    y=train_labels,\n",
    "    batch_size=32,\n",
    "    num_epochs=10,\n",
    "    shuffle=True)\n",
    "\n",
    "fashion_classifier.train(input_fn=train_input_fn, steps=1000)"
   ]
  },
  {
   "cell_type": "code",
   "execution_count": 10,
   "metadata": {
    "colab": {
     "base_uri": "https://localhost:8080/",
     "height": 34
    },
    "colab_type": "code",
    "id": "8pnd-j-YMJhJ",
    "outputId": "35f28b9f-a07d-4f4e-b6a1-1080e80f8b2e"
   },
   "outputs": [
    {
     "name": "stdout",
     "output_type": "stream",
     "text": [
      "INFO:tensorflow:Calling model_fn.\n",
      "INFO:tensorflow:Done calling model_fn.\n",
      "INFO:tensorflow:Starting evaluation at 2019-06-18T05:27:24Z\n",
      "INFO:tensorflow:Graph was finalized.\n",
      "WARNING:tensorflow:From /home/shantanu/anaconda3/lib/python3.7/site-packages/tensorflow/python/training/saver.py:1266: checkpoint_exists (from tensorflow.python.training.checkpoint_management) is deprecated and will be removed in a future version.\n",
      "Instructions for updating:\n",
      "Use standard file APIs to check for files with this prefix.\n",
      "INFO:tensorflow:Restoring parameters from /tmp/tmpk01e_377/model.ckpt-1000\n",
      "INFO:tensorflow:Running local_init_op.\n",
      "INFO:tensorflow:Done running local_init_op.\n",
      "INFO:tensorflow:Finished evaluation at 2019-06-18-05:28:16\n",
      "INFO:tensorflow:Saving dict for global step 1000: accuracy = 0.8729, global_step = 1000, loss = 0.34276408\n",
      "INFO:tensorflow:Saving 'checkpoint_path' summary for global step 1000: /tmp/tmpk01e_377/model.ckpt-1000\n",
      "{'accuracy': 0.8729, 'loss': 0.34276408, 'global_step': 1000}\n"
     ]
    }
   ],
   "source": [
    "#Evaluation\n",
    "eval_input_fn = tf.estimator.inputs.numpy_input_fn(\n",
    "    x={\"x\": eval_data},\n",
    "    y=eval_labels,\n",
    "    num_epochs=10,\n",
    "    shuffle=False)\n",
    "\n",
    "eval_results = fashion_classifier.evaluate(input_fn=eval_input_fn)\n",
    "print(eval_results)"
   ]
  },
  {
   "cell_type": "code",
   "execution_count": 11,
   "metadata": {
    "colab": {},
    "colab_type": "code",
    "id": "R3wOTcMgMJhS"
   },
   "outputs": [],
   "source": [
    "########################################CNN model With dropout #########################################################"
   ]
  },
  {
   "cell_type": "code",
   "execution_count": 12,
   "metadata": {
    "colab": {},
    "colab_type": "code",
    "id": "hlSdvuy4MJhY"
   },
   "outputs": [],
   "source": [
    "def cnn_model_dropout(features, labels, mode):\n",
    "    #Reshapinng the input\n",
    "    input_layer = tf.reshape(features[\"x\"], [-1, 28, 28, 1])\n",
    "    \n",
    "     # Convolutional Layer #1 and Pooling Layer #1\n",
    "    conv1 = tf.layers.conv2d(\n",
    "        inputs=input_layer,\n",
    "        filters=32,\n",
    "        kernel_size=[5, 5],\n",
    "        padding=\"same\",\n",
    "        activation=tf.nn.relu)\n",
    "    \n",
    "    pool1 = tf.layers.max_pooling2d(inputs=conv1, pool_size=[2, 2], strides=2)\n",
    "    \n",
    "    # Convolutional Layer #2 and Pooling Layer #2\n",
    "    conv2 = tf.layers.conv2d(\n",
    "          inputs=pool1,\n",
    "          filters=64,\n",
    "          kernel_size=[5, 5],\n",
    "          padding=\"same\",\n",
    "          activation=tf.nn.relu)\n",
    "    \n",
    "    pool2 = tf.layers.max_pooling2d(inputs=conv2, pool_size=[2, 2], strides=2)\n",
    "    \n",
    "    dropout_1 = tf.layers.dropout(inputs=pool2, rate=0.25,training=mode == tf.estimator.ModeKeys.TRAIN )\n",
    "    \n",
    "    # Convolutional Layer #2 and Pooling Layer #2\n",
    "    conv3 = tf.layers.conv2d(\n",
    "          inputs= dropout_1,\n",
    "          filters=128,\n",
    "          kernel_size=[5, 5],\n",
    "        \n",
    "          padding=\"same\",\n",
    "          activation=tf.nn.relu)\n",
    "    \n",
    "    pool3 = tf.layers.max_pooling2d(inputs=conv3, pool_size=[2, 2], strides=2)\n",
    "    \n",
    "    dropout_2 = tf.layers.dropout(inputs=pool3, rate=0.25,training=mode == tf.estimator.ModeKeys.TRAIN )\n",
    "       \n",
    "    flatten_1= tf.reshape(dropout_2, [-1, 3*3*128])\n",
    "    \n",
    "    dense = tf.layers.dense(inputs= flatten_1,units=1024,activation=tf.nn.relu)\n",
    "    \n",
    "    dropout= tf.layers.dropout(inputs=dense, rate=0.4, training=mode == tf.estimator.ModeKeys.TRAIN)\n",
    "    \n",
    "    output_layer = tf.layers.dense(inputs= dropout, units=10)\n",
    "    predictions={\n",
    "    \"classes\":tf.argmax(input=output_layer, axis=1),\n",
    "    \"probabilities\":tf.nn.softmax(output_layer,name='softmax_tensor')\n",
    "    }\n",
    " \n",
    "    if mode==tf.estimator.ModeKeys.PREDICT:\n",
    "        return tf.estimator.EstimatorSpec(mode=mode, predictions=predictions)\n",
    "    \n",
    "    loss= tf.losses.sparse_softmax_cross_entropy(labels=labels, logits= output_layer, scope='loss')\n",
    "    \n",
    "    if mode== tf.estimator.ModeKeys.TRAIN:\n",
    "        optimizer= tf.train.AdamOptimizer(learning_rate=0.001)\n",
    "        train_op= optimizer.minimize(loss=loss, global_step=tf.train.get_global_step())\n",
    "        return tf.estimator.EstimatorSpec(mode=mode, loss=loss,train_op=train_op )\n",
    "    \n",
    "    eval_metrics_op={ \"accuracy\":tf.metrics.accuracy(labels=labels,predictions=predictions[\"classes\"])}\n",
    "    return tf.estimator.EstimatorSpec(mode=mode, loss=loss, eval_metric_ops=eval_metrics_op)"
   ]
  },
  {
   "cell_type": "code",
   "execution_count": 13,
   "metadata": {
    "colab": {
     "base_uri": "https://localhost:8080/",
     "height": 34
    },
    "colab_type": "code",
    "id": "4jsxR8WOMJhd",
    "outputId": "549865ad-1e0d-442e-dd00-3b7aaf37c865"
   },
   "outputs": [
    {
     "name": "stdout",
     "output_type": "stream",
     "text": [
      "INFO:tensorflow:Using default config.\n",
      "WARNING:tensorflow:Using temporary folder as model directory: /tmp/tmpz2b5dh_4\n",
      "INFO:tensorflow:Using config: {'_model_dir': '/tmp/tmpz2b5dh_4', '_tf_random_seed': None, '_save_summary_steps': 100, '_save_checkpoints_steps': None, '_save_checkpoints_secs': 600, '_session_config': allow_soft_placement: true\n",
      "graph_options {\n",
      "  rewrite_options {\n",
      "    meta_optimizer_iterations: ONE\n",
      "  }\n",
      "}\n",
      ", '_keep_checkpoint_max': 5, '_keep_checkpoint_every_n_hours': 10000, '_log_step_count_steps': 100, '_train_distribute': None, '_device_fn': None, '_protocol': None, '_eval_distribute': None, '_experimental_distribute': None, '_service': None, '_cluster_spec': <tensorflow.python.training.server_lib.ClusterSpec object at 0x7f167df02860>, '_task_type': 'worker', '_task_id': 0, '_global_id_in_cluster': 0, '_master': '', '_evaluation_master': '', '_is_chief': True, '_num_ps_replicas': 0, '_num_worker_replicas': 1}\n"
     ]
    }
   ],
   "source": [
    "fashion_classifier1 = tf.estimator.Estimator(model_fn = cnn_model_dropout)"
   ]
  },
  {
   "cell_type": "code",
   "execution_count": 14,
   "metadata": {
    "colab": {
     "base_uri": "https://localhost:8080/",
     "height": 34
    },
    "colab_type": "code",
    "id": "jw09AwxMMJhj",
    "outputId": "2a7a89bb-2d8b-4697-ac03-95997c3ae48b",
    "scrolled": true
   },
   "outputs": [
    {
     "name": "stdout",
     "output_type": "stream",
     "text": [
      "INFO:tensorflow:Calling model_fn.\n",
      "WARNING:tensorflow:From <ipython-input-12-5f53d3f628dd>:25: dropout (from tensorflow.python.layers.core) is deprecated and will be removed in a future version.\n",
      "Instructions for updating:\n",
      "Use keras.layers.dropout instead.\n",
      "WARNING:tensorflow:From /home/shantanu/anaconda3/lib/python3.7/site-packages/tensorflow/python/keras/layers/core.py:143: calling dropout (from tensorflow.python.ops.nn_ops) with keep_prob is deprecated and will be removed in a future version.\n",
      "Instructions for updating:\n",
      "Please use `rate` instead of `keep_prob`. Rate should be set to `rate = 1 - keep_prob`.\n",
      "INFO:tensorflow:Done calling model_fn.\n",
      "INFO:tensorflow:Create CheckpointSaverHook.\n",
      "INFO:tensorflow:Graph was finalized.\n",
      "INFO:tensorflow:Running local_init_op.\n",
      "INFO:tensorflow:Done running local_init_op.\n",
      "INFO:tensorflow:Saving checkpoints for 0 into /tmp/tmpz2b5dh_4/model.ckpt.\n",
      "INFO:tensorflow:loss = 2.316598, step = 1\n",
      "INFO:tensorflow:global_step/sec: 8.46792\n",
      "INFO:tensorflow:loss = 0.7694825, step = 101 (11.787 sec)\n",
      "INFO:tensorflow:global_step/sec: 8.51203\n",
      "INFO:tensorflow:loss = 0.33269858, step = 201 (11.748 sec)\n",
      "INFO:tensorflow:global_step/sec: 8.03923\n",
      "INFO:tensorflow:loss = 0.350466, step = 301 (12.440 sec)\n",
      "INFO:tensorflow:global_step/sec: 8.01551\n",
      "INFO:tensorflow:loss = 0.41650563, step = 401 (12.475 sec)\n",
      "INFO:tensorflow:global_step/sec: 8.02074\n",
      "INFO:tensorflow:loss = 0.3455519, step = 501 (12.468 sec)\n",
      "INFO:tensorflow:global_step/sec: 7.87058\n",
      "INFO:tensorflow:loss = 0.45621264, step = 601 (12.706 sec)\n",
      "INFO:tensorflow:global_step/sec: 8.06905\n",
      "INFO:tensorflow:loss = 0.34220016, step = 701 (12.393 sec)\n",
      "INFO:tensorflow:global_step/sec: 8.1145\n",
      "INFO:tensorflow:loss = 0.27509585, step = 801 (12.324 sec)\n",
      "INFO:tensorflow:global_step/sec: 8.09176\n",
      "INFO:tensorflow:loss = 0.31251, step = 901 (12.358 sec)\n",
      "INFO:tensorflow:Saving checkpoints for 1000 into /tmp/tmpz2b5dh_4/model.ckpt.\n",
      "INFO:tensorflow:Loss for final step: 0.33226717.\n"
     ]
    },
    {
     "data": {
      "text/plain": [
       "<tensorflow_estimator.python.estimator.estimator.Estimator at 0x7f167df027f0>"
      ]
     },
     "execution_count": 14,
     "metadata": {},
     "output_type": "execute_result"
    }
   ],
   "source": [
    "# Train the model\n",
    "train_input_fn1 = tf.estimator.inputs.numpy_input_fn(\n",
    "    x={\"x\": train_data},\n",
    "    y=train_labels,\n",
    "    batch_size=64,\n",
    "    num_epochs=10,\n",
    "    shuffle=True)\n",
    "\n",
    "fashion_classifier1.train(input_fn=train_input_fn1, steps=1000)"
   ]
  },
  {
   "cell_type": "code",
   "execution_count": 15,
   "metadata": {
    "colab": {
     "base_uri": "https://localhost:8080/",
     "height": 34
    },
    "colab_type": "code",
    "id": "wqifDqi2MJhq",
    "outputId": "4e356a68-8fba-490b-f74d-c64c706ca78c"
   },
   "outputs": [
    {
     "name": "stdout",
     "output_type": "stream",
     "text": [
      "INFO:tensorflow:Calling model_fn.\n",
      "INFO:tensorflow:Done calling model_fn.\n",
      "INFO:tensorflow:Starting evaluation at 2019-06-18T05:32:33Z\n",
      "INFO:tensorflow:Graph was finalized.\n",
      "INFO:tensorflow:Restoring parameters from /tmp/tmpz2b5dh_4/model.ckpt-1000\n",
      "INFO:tensorflow:Running local_init_op.\n",
      "INFO:tensorflow:Done running local_init_op.\n",
      "INFO:tensorflow:Finished evaluation at 2019-06-18-05:33:26\n",
      "INFO:tensorflow:Saving dict for global step 1000: accuracy = 0.88, global_step = 1000, loss = 0.33154628\n",
      "INFO:tensorflow:Saving 'checkpoint_path' summary for global step 1000: /tmp/tmpz2b5dh_4/model.ckpt-1000\n",
      "{'accuracy': 0.88, 'loss': 0.33154628, 'global_step': 1000}\n"
     ]
    }
   ],
   "source": [
    "eval_input_fn1 = tf.estimator.inputs.numpy_input_fn(\n",
    "    x={\"x\": eval_data},\n",
    "    y=eval_labels,\n",
    "    num_epochs=10,\n",
    "    shuffle=False)\n",
    "\n",
    "eval_results1 = fashion_classifier1.evaluate(input_fn=eval_input_fn1)\n",
    "print(eval_results1)"
   ]
  },
  {
   "cell_type": "code",
   "execution_count": 16,
   "metadata": {
    "colab": {},
    "colab_type": "code",
    "id": "lGjvP48lMJhy"
   },
   "outputs": [],
   "source": [
    "######################################## Part 3 using batch normalization ###############################################"
   ]
  },
  {
   "cell_type": "code",
   "execution_count": 17,
   "metadata": {
    "colab": {},
    "colab_type": "code",
    "id": "OkfqvOzwMJh6"
   },
   "outputs": [],
   "source": [
    "#CNN model with dropout and batch normalization\n",
    "def cnn_model_dropout(features, labels, mode):\n",
    "    #Reshapinng the input\n",
    "    input_layer = tf.reshape(features[\"x\"], [-1, 28, 28, 1])\n",
    "    \n",
    "     # Convolutional Layer #1 and Pooling Layer #1\n",
    "    conv1 = tf.layers.conv2d(\n",
    "        inputs=input_layer,\n",
    "        filters=32,\n",
    "        kernel_size=[5, 5],\n",
    "        padding=\"same\")\n",
    "    conv1=tf.layers.batch_normalization(conv1)\n",
    "    conv1=tf.nn.relu(conv1)\n",
    "    \n",
    "    pool1 = tf.layers.max_pooling2d(inputs=conv1, pool_size=[2, 2], strides=2)\n",
    "    \n",
    "    # Convolutional Layer #2 and Pooling Layer #2\n",
    "    conv2 = tf.layers.conv2d(\n",
    "          inputs=pool1,\n",
    "          filters=64,\n",
    "          kernel_size=[5, 5],\n",
    "          padding=\"same\")\n",
    "    conv2=tf.layers.batch_normalization(conv2)\n",
    "    conv2=tf.nn.relu(conv2)\n",
    "    pool2 = tf.layers.max_pooling2d(inputs=conv2, pool_size=[2, 2], strides=2)\n",
    "    \n",
    "    dropout_1 = tf.layers.dropout(inputs=pool2, rate=0.25,training=mode == tf.estimator.ModeKeys.TRAIN )\n",
    "    \n",
    "    # Convolutional Layer #2 and Pooling Layer #2\n",
    "    conv3 = tf.layers.conv2d(\n",
    "          inputs= dropout_1,\n",
    "          filters=128,\n",
    "          kernel_size=[5, 5],\n",
    "        padding=\"same\")\n",
    "    conv3=tf.layers.batch_normalization(conv3)\n",
    "    conv3=tf.nn.relu(conv3)\n",
    "    pool3 = tf.layers.max_pooling2d(inputs=conv3, pool_size=[2, 2], strides=2)\n",
    "    \n",
    "    dropout_2 = tf.layers.dropout(inputs=pool3, rate=0.25,training=mode == tf.estimator.ModeKeys.TRAIN )\n",
    "       \n",
    "    flatten_1= tf.reshape(dropout_2, [-1, 3*3*128])\n",
    "    \n",
    "    dense = tf.layers.dense(inputs= flatten_1,units=1024,activation=tf.nn.relu)\n",
    "    \n",
    "    dropout= tf.layers.dropout(inputs=dense, rate=0.4, training=mode == tf.estimator.ModeKeys.TRAIN)\n",
    "    \n",
    "    output_layer = tf.layers.dense(inputs= dropout, units=10)\n",
    "    predictions={\n",
    "    \"classes\":tf.argmax(input=output_layer, axis=1),\n",
    "    \"probabilities\":tf.nn.softmax(output_layer,name='softmax_tensor')\n",
    "    }\n",
    "    if mode==tf.estimator.ModeKeys.PREDICT:\n",
    "        return tf.estimator.EstimatorSpec(mode=mode, predictions=predictions)\n",
    "\n",
    "    loss= tf.losses.sparse_softmax_cross_entropy(labels=labels, logits= output_layer, scope='loss')\n",
    "  \n",
    "    if mode== tf.estimator.ModeKeys.TRAIN:\n",
    "        optimizer= tf.train.AdamOptimizer(learning_rate=0.001)\n",
    "        train_op= optimizer.minimize(loss=loss, global_step=tf.train.get_global_step())\n",
    "        return tf.estimator.EstimatorSpec(mode=mode, loss=loss,train_op=train_op )\n",
    "    \n",
    "    eval_metrics_op={ \"accuracy\":tf.metrics.accuracy(labels=labels,predictions=predictions[\"classes\"])}\n",
    "   \n",
    "    return tf.estimator.EstimatorSpec(mode=mode, loss=loss, eval_metric_ops=eval_metrics_op)"
   ]
  },
  {
   "cell_type": "code",
   "execution_count": 18,
   "metadata": {
    "colab": {
     "base_uri": "https://localhost:8080/",
     "height": 34
    },
    "colab_type": "code",
    "id": "kbh4bZ14MJh_",
    "outputId": "b3efb25c-c66a-4d7e-c3db-5c4398a4d644"
   },
   "outputs": [
    {
     "name": "stdout",
     "output_type": "stream",
     "text": [
      "INFO:tensorflow:Using default config.\n",
      "WARNING:tensorflow:Using temporary folder as model directory: /tmp/tmpx_ofu6ma\n",
      "INFO:tensorflow:Using config: {'_model_dir': '/tmp/tmpx_ofu6ma', '_tf_random_seed': None, '_save_summary_steps': 100, '_save_checkpoints_steps': None, '_save_checkpoints_secs': 600, '_session_config': allow_soft_placement: true\n",
      "graph_options {\n",
      "  rewrite_options {\n",
      "    meta_optimizer_iterations: ONE\n",
      "  }\n",
      "}\n",
      ", '_keep_checkpoint_max': 5, '_keep_checkpoint_every_n_hours': 10000, '_log_step_count_steps': 100, '_train_distribute': None, '_device_fn': None, '_protocol': None, '_eval_distribute': None, '_experimental_distribute': None, '_service': None, '_cluster_spec': <tensorflow.python.training.server_lib.ClusterSpec object at 0x7f16918e1be0>, '_task_type': 'worker', '_task_id': 0, '_global_id_in_cluster': 0, '_master': '', '_evaluation_master': '', '_is_chief': True, '_num_ps_replicas': 0, '_num_worker_replicas': 1}\n"
     ]
    }
   ],
   "source": [
    "fashion_classifier2 = tf.estimator.Estimator(model_fn = cnn_model_dropout)"
   ]
  },
  {
   "cell_type": "code",
   "execution_count": 19,
   "metadata": {
    "colab": {
     "base_uri": "https://localhost:8080/",
     "height": 34
    },
    "colab_type": "code",
    "id": "ZzbOYAMbMJiF",
    "outputId": "ea768b1a-ada3-4509-9b27-52ceb4fbb603"
   },
   "outputs": [
    {
     "name": "stdout",
     "output_type": "stream",
     "text": [
      "INFO:tensorflow:Calling model_fn.\n",
      "WARNING:tensorflow:From <ipython-input-17-54503ba94397>:11: batch_normalization (from tensorflow.python.layers.normalization) is deprecated and will be removed in a future version.\n",
      "Instructions for updating:\n",
      "Use keras.layers.batch_normalization instead.\n",
      "INFO:tensorflow:Done calling model_fn.\n",
      "INFO:tensorflow:Create CheckpointSaverHook.\n",
      "INFO:tensorflow:Graph was finalized.\n",
      "INFO:tensorflow:Running local_init_op.\n",
      "INFO:tensorflow:Done running local_init_op.\n",
      "INFO:tensorflow:Saving checkpoints for 0 into /tmp/tmpx_ofu6ma/model.ckpt.\n",
      "INFO:tensorflow:loss = 2.2969372, step = 1\n",
      "INFO:tensorflow:global_step/sec: 7.65066\n",
      "INFO:tensorflow:loss = 0.617063, step = 101 (13.071 sec)\n",
      "INFO:tensorflow:global_step/sec: 7.92036\n",
      "INFO:tensorflow:loss = 0.63689715, step = 201 (12.625 sec)\n",
      "INFO:tensorflow:global_step/sec: 7.28203\n",
      "INFO:tensorflow:loss = 0.4073316, step = 301 (13.732 sec)\n",
      "INFO:tensorflow:global_step/sec: 7.09803\n",
      "INFO:tensorflow:loss = 0.35251355, step = 401 (14.089 sec)\n",
      "INFO:tensorflow:global_step/sec: 7.08557\n",
      "INFO:tensorflow:loss = 0.3558758, step = 501 (14.113 sec)\n",
      "INFO:tensorflow:global_step/sec: 7.03422\n",
      "INFO:tensorflow:loss = 0.24763525, step = 601 (14.216 sec)\n",
      "INFO:tensorflow:global_step/sec: 7.09143\n",
      "INFO:tensorflow:loss = 0.25113726, step = 701 (14.102 sec)\n",
      "INFO:tensorflow:global_step/sec: 6.93646\n",
      "INFO:tensorflow:loss = 0.2846951, step = 801 (14.417 sec)\n",
      "INFO:tensorflow:global_step/sec: 6.80832\n",
      "INFO:tensorflow:loss = 0.39096636, step = 901 (15.852 sec)\n",
      "INFO:tensorflow:Saving checkpoints for 1000 into /tmp/tmpx_ofu6ma/model.ckpt.\n",
      "INFO:tensorflow:Loss for final step: 0.41953903.\n"
     ]
    },
    {
     "data": {
      "text/plain": [
       "<tensorflow_estimator.python.estimator.estimator.Estimator at 0x7f16918e1b38>"
      ]
     },
     "execution_count": 19,
     "metadata": {},
     "output_type": "execute_result"
    }
   ],
   "source": [
    "# Train the model\n",
    "train_input_fn2 = tf.estimator.inputs.numpy_input_fn(\n",
    "    x={\"x\": train_data},\n",
    "    y=train_labels,\n",
    "    batch_size=64,\n",
    "    num_epochs=10,\n",
    "    shuffle=True)\n",
    "\n",
    "fashion_classifier2.train(input_fn=train_input_fn2, steps=1000)"
   ]
  },
  {
   "cell_type": "code",
   "execution_count": 20,
   "metadata": {
    "colab": {
     "base_uri": "https://localhost:8080/",
     "height": 34
    },
    "colab_type": "code",
    "id": "eeiWQn0KMJiL",
    "outputId": "3aab1932-1b58-476d-de7a-1cff4b2c175e"
   },
   "outputs": [
    {
     "name": "stdout",
     "output_type": "stream",
     "text": [
      "INFO:tensorflow:Calling model_fn.\n",
      "INFO:tensorflow:Done calling model_fn.\n",
      "INFO:tensorflow:Starting evaluation at 2019-06-18T05:39:06Z\n",
      "INFO:tensorflow:Graph was finalized.\n",
      "INFO:tensorflow:Restoring parameters from /tmp/tmpx_ofu6ma/model.ckpt-1000\n",
      "INFO:tensorflow:Running local_init_op.\n",
      "INFO:tensorflow:Done running local_init_op.\n",
      "INFO:tensorflow:Finished evaluation at 2019-06-18-05:40:13\n",
      "INFO:tensorflow:Saving dict for global step 1000: accuracy = 0.8879, global_step = 1000, loss = 0.30802605\n",
      "INFO:tensorflow:Saving 'checkpoint_path' summary for global step 1000: /tmp/tmpx_ofu6ma/model.ckpt-1000\n",
      "{'accuracy': 0.8879, 'loss': 0.30802605, 'global_step': 1000}\n"
     ]
    }
   ],
   "source": [
    "eval_input_fn2 = tf.estimator.inputs.numpy_input_fn(\n",
    "    x={\"x\": eval_data},\n",
    "    y=eval_labels,\n",
    "    num_epochs=10,\n",
    "    shuffle=False)\n",
    "\n",
    "eval_results2 = fashion_classifier2.evaluate(input_fn=eval_input_fn2)\n",
    "print(eval_results2)"
   ]
  },
  {
   "cell_type": "code",
   "execution_count": 21,
   "metadata": {
    "colab": {},
    "colab_type": "code",
    "id": "WXYHJEiDMJid"
   },
   "outputs": [],
   "source": [
    "############################# Implementation of reduceLRonPlateau and Early stopping ##################################################"
   ]
  },
  {
   "cell_type": "code",
   "execution_count": 22,
   "metadata": {
    "colab": {
     "base_uri": "https://localhost:8080/",
     "height": 86
    },
    "colab_type": "code",
    "id": "Cd3cTwuU7-8w",
    "outputId": "ba2ba48b-425d-4c24-df43-e61279d716c8"
   },
   "outputs": [
    {
     "name": "stdout",
     "output_type": "stream",
     "text": [
      "x_train shape: (55000, 28, 28, 1) y_train shape: (55000, 10)\n",
      "55000 train set\n",
      "5000 validation set\n",
      "10000 test set\n"
     ]
    }
   ],
   "source": [
    "# Further break training data into train / validation sets (# put 5000 into validation set and keep remaining 55,000 for train)\n",
    "(x_train, x_valid) = train_data[5000:], train_data[:5000] \n",
    "(y_train, y_valid) = train_labels[5000:], train_labels[:5000]\n",
    "\n",
    "# Reshape input data from (28, 28) to (28, 28, 1)\n",
    "w, h = 28, 28\n",
    "x_train = x_train.reshape(x_train.shape[0], w, h, 1)\n",
    "x_valid = x_valid.reshape(x_valid.shape[0], w, h, 1)\n",
    "x_test = eval_data.reshape(eval_data.shape[0], w, h, 1)\n",
    "\n",
    "# One-hot encode the labels\n",
    "y_train = tf.keras.utils.to_categorical(y_train, 10)\n",
    "y_valid = tf.keras.utils.to_categorical(y_valid, 10)\n",
    "y_test = tf.keras.utils.to_categorical(eval_labels, 10)\n",
    "\n",
    "# Print training set shape\n",
    "print(\"x_train shape:\", x_train.shape, \"y_train shape:\", y_train.shape)\n",
    "\n",
    "# Print the number of training, validation, and test datasets\n",
    "print(x_train.shape[0], 'train set')\n",
    "print(x_valid.shape[0], 'validation set')\n",
    "print(x_test.shape[0], 'test set')"
   ]
  },
  {
   "cell_type": "code",
   "execution_count": 23,
   "metadata": {
    "colab": {
     "base_uri": "https://localhost:8080/",
     "height": 593
    },
    "colab_type": "code",
    "id": "piIgcREA8dga",
    "outputId": "4e0b1426-b086-4fda-a15b-5ec107dda217"
   },
   "outputs": [
    {
     "name": "stdout",
     "output_type": "stream",
     "text": [
      "_________________________________________________________________\n",
      "Layer (type)                 Output Shape              Param #   \n",
      "=================================================================\n",
      "conv2d (Conv2D)              (None, 28, 28, 64)        320       \n",
      "_________________________________________________________________\n",
      "max_pooling2d (MaxPooling2D) (None, 14, 14, 64)        0         \n",
      "_________________________________________________________________\n",
      "dropout (Dropout)            (None, 14, 14, 64)        0         \n",
      "_________________________________________________________________\n",
      "conv2d_1 (Conv2D)            (None, 14, 14, 32)        8224      \n",
      "_________________________________________________________________\n",
      "max_pooling2d_1 (MaxPooling2 (None, 7, 7, 32)          0         \n",
      "_________________________________________________________________\n",
      "dropout_1 (Dropout)          (None, 7, 7, 32)          0         \n",
      "_________________________________________________________________\n",
      "flatten (Flatten)            (None, 1568)              0         \n",
      "_________________________________________________________________\n",
      "dense (Dense)                (None, 256)               401664    \n",
      "_________________________________________________________________\n",
      "dropout_2 (Dropout)          (None, 256)               0         \n",
      "_________________________________________________________________\n",
      "dense_1 (Dense)              (None, 10)                2570      \n",
      "=================================================================\n",
      "Total params: 412,778\n",
      "Trainable params: 412,778\n",
      "Non-trainable params: 0\n",
      "_________________________________________________________________\n"
     ]
    }
   ],
   "source": [
    "model = tf.keras.Sequential()\n",
    "\n",
    "# Must define the input shape in the first layer of the neural network\n",
    "model.add(tf.keras.layers.Conv2D(filters=64, kernel_size=2, padding='same', activation='relu', input_shape=(28,28,1))) \n",
    "model.add(tf.keras.layers.MaxPooling2D(pool_size=2))\n",
    "model.add(tf.keras.layers.Dropout(0.3))\n",
    "\n",
    "model.add(tf.keras.layers.Conv2D(filters=32, kernel_size=2, padding='same', activation='relu'))\n",
    "model.add(tf.keras.layers.MaxPooling2D(pool_size=2))\n",
    "model.add(tf.keras.layers.Dropout(0.3))\n",
    "\n",
    "model.add(tf.keras.layers.Flatten())\n",
    "model.add(tf.keras.layers.Dense(256, activation='relu'))\n",
    "model.add(tf.keras.layers.Dropout(0.5))\n",
    "model.add(tf.keras.layers.Dense(10, activation='softmax'))\n",
    "\n",
    "# Take a look at the model summary\n",
    "model.summary()"
   ]
  },
  {
   "cell_type": "code",
   "execution_count": 24,
   "metadata": {
    "colab": {},
    "colab_type": "code",
    "id": "8B-igrFW9aso"
   },
   "outputs": [],
   "source": [
    "model.compile(loss='categorical_crossentropy',\n",
    "             optimizer='adam',\n",
    "             metrics=['accuracy'])"
   ]
  },
  {
   "cell_type": "code",
   "execution_count": 25,
   "metadata": {
    "colab": {
     "base_uri": "https://localhost:8080/",
     "height": 399
    },
    "colab_type": "code",
    "id": "UTvrdl2B9b40",
    "outputId": "5ae3dd25-3670-4aca-a490-b52f24c4cee7"
   },
   "outputs": [
    {
     "name": "stdout",
     "output_type": "stream",
     "text": [
      "Train on 55000 samples, validate on 5000 samples\n",
      "WARNING:tensorflow:From /home/shantanu/anaconda3/lib/python3.7/site-packages/tensorflow/python/ops/math_ops.py:3066: to_int32 (from tensorflow.python.ops.math_ops) is deprecated and will be removed in a future version.\n",
      "Instructions for updating:\n",
      "Use tf.cast instead.\n",
      "Epoch 1/10\n",
      "55000/55000 [==============================] - 53s 970us/sample - loss: 0.6000 - acc: 0.7772 - val_loss: 0.3772 - val_acc: 0.8688\n",
      "Epoch 2/10\n",
      "55000/55000 [==============================] - 51s 926us/sample - loss: 0.4167 - acc: 0.8488 - val_loss: 0.3360 - val_acc: 0.8768\n",
      "Epoch 3/10\n",
      "55000/55000 [==============================] - 51s 924us/sample - loss: 0.3722 - acc: 0.8645 - val_loss: 0.2996 - val_acc: 0.8916\n",
      "Epoch 4/10\n",
      "55000/55000 [==============================] - 53s 965us/sample - loss: 0.3444 - acc: 0.8741 - val_loss: 0.2737 - val_acc: 0.8994\n",
      "Epoch 5/10\n",
      "55000/55000 [==============================] - 54s 983us/sample - loss: 0.3240 - acc: 0.8797 - val_loss: 0.2596 - val_acc: 0.9064\n",
      "Epoch 6/10\n",
      "55000/55000 [==============================] - 48s 870us/sample - loss: 0.3053 - acc: 0.8872 - val_loss: 0.2550 - val_acc: 0.9052\n",
      "Epoch 7/10\n",
      "55000/55000 [==============================] - 48s 877us/sample - loss: 0.2929 - acc: 0.8931 - val_loss: 0.2405 - val_acc: 0.9090\n",
      "Epoch 8/10\n",
      "55000/55000 [==============================] - 54s 976us/sample - loss: 0.2858 - acc: 0.8952 - val_loss: 0.2297 - val_acc: 0.9170\n",
      "Epoch 9/10\n",
      "55000/55000 [==============================] - 55s 993us/sample - loss: 0.2751 - acc: 0.8973 - val_loss: 0.2311 - val_acc: 0.9178\n",
      "Epoch 10/10\n",
      "55000/55000 [==============================] - 55s 1ms/sample - loss: 0.2673 - acc: 0.9022 - val_loss: 0.2359 - val_acc: 0.9152\n"
     ]
    },
    {
     "data": {
      "text/plain": [
       "<tensorflow.python.keras.callbacks.History at 0x7f167deaccc0>"
      ]
     },
     "execution_count": 25,
     "metadata": {},
     "output_type": "execute_result"
    }
   ],
   "source": [
    "#Early stopping using keras callback\n",
    "from tensorflow.keras.callbacks import EarlyStopping\n",
    "\n",
    "earlyStop=EarlyStopping(monitor=\"val_loss\",verbose=1,mode='min',patience=3)\n",
    "model.fit(x_train,\n",
    "         y_train,\n",
    "         batch_size=64,\n",
    "         epochs=10,\n",
    "         validation_data=(x_valid, y_valid),\n",
    "         callbacks=[earlyStop])"
   ]
  },
  {
   "cell_type": "code",
   "execution_count": 26,
   "metadata": {
    "colab": {},
    "colab_type": "code",
    "id": "JIo989oT9fJg"
   },
   "outputs": [],
   "source": [
    "from tensorflow.keras.callbacks import ReduceLROnPlateau"
   ]
  },
  {
   "cell_type": "code",
   "execution_count": 27,
   "metadata": {
    "colab": {
     "base_uri": "https://localhost:8080/",
     "height": 416
    },
    "colab_type": "code",
    "id": "2he69Y4F94gK",
    "outputId": "5fc886a2-471f-4489-d9fe-1965458db759"
   },
   "outputs": [
    {
     "name": "stdout",
     "output_type": "stream",
     "text": [
      "WARNING:tensorflow:`epsilon` argument is deprecated and will be removed, use `min_delta` instead.\n",
      "Train on 55000 samples, validate on 5000 samples\n",
      "Epoch 1/10\n",
      "55000/55000 [==============================] - 53s 964us/sample - loss: 0.2616 - acc: 0.9043 - val_loss: 0.2194 - val_acc: 0.9216\n",
      "Epoch 2/10\n",
      "55000/55000 [==============================] - 51s 936us/sample - loss: 0.2572 - acc: 0.9038 - val_loss: 0.2508 - val_acc: 0.9062\n",
      "Epoch 3/10\n",
      "55000/55000 [==============================] - 50s 914us/sample - loss: 0.2502 - acc: 0.9071 - val_loss: 0.2188 - val_acc: 0.9178\n",
      "Epoch 4/10\n",
      "55000/55000 [==============================] - 51s 924us/sample - loss: 0.2439 - acc: 0.9101 - val_loss: 0.2104 - val_acc: 0.9264\n",
      "Epoch 5/10\n",
      "55000/55000 [==============================] - 50s 902us/sample - loss: 0.2407 - acc: 0.9107 - val_loss: 0.2151 - val_acc: 0.9232\n",
      "Epoch 6/10\n",
      "55000/55000 [==============================] - 50s 900us/sample - loss: 0.2326 - acc: 0.9132 - val_loss: 0.2218 - val_acc: 0.9206\n",
      "Epoch 7/10\n",
      "55000/55000 [==============================] - 50s 906us/sample - loss: 0.2319 - acc: 0.9129 - val_loss: 0.2072 - val_acc: 0.9228\n",
      "Epoch 8/10\n",
      "55000/55000 [==============================] - 53s 965us/sample - loss: 0.2268 - acc: 0.9156 - val_loss: 0.2102 - val_acc: 0.9252\n",
      "Epoch 9/10\n",
      "55000/55000 [==============================] - 52s 946us/sample - loss: 0.2238 - acc: 0.9163 - val_loss: 0.2069 - val_acc: 0.9234\n",
      "Epoch 10/10\n",
      "55000/55000 [==============================] - 51s 935us/sample - loss: 0.2224 - acc: 0.9169 - val_loss: 0.2056 - val_acc: 0.9252\n"
     ]
    },
    {
     "data": {
      "text/plain": [
       "<tensorflow.python.keras.callbacks.History at 0x7f167dd0ec50>"
      ]
     },
     "execution_count": 27,
     "metadata": {},
     "output_type": "execute_result"
    }
   ],
   "source": [
    "#ReduceLRonPlateau using keras callback\n",
    "reduce_lr = ReduceLROnPlateau(monitor='val_loss', factor=0.1, patience=10, verbose=1, epsilon=1e-4, mode='min')\n",
    "model.fit(x_train,\n",
    "         y_train,\n",
    "         batch_size=64,\n",
    "         epochs=10,\n",
    "         validation_data=(x_valid, y_valid),\n",
    "         callbacks=[reduce_lr])"
   ]
  },
  {
   "cell_type": "code",
   "execution_count": 28,
   "metadata": {
    "colab": {},
    "colab_type": "code",
    "id": "uvVb8uH3965f"
   },
   "outputs": [],
   "source": [
    "score = model.evaluate(x_valid, y_valid, verbose=0)"
   ]
  },
  {
   "cell_type": "code",
   "execution_count": 29,
   "metadata": {
    "colab": {
     "base_uri": "https://localhost:8080/",
     "height": 52
    },
    "colab_type": "code",
    "id": "yFfjSKXV-Iuk",
    "outputId": "fc4f97e4-664f-4cf7-dd6a-168336f3dcc8"
   },
   "outputs": [
    {
     "name": "stdout",
     "output_type": "stream",
     "text": [
      "Validation loss: 0.20557098866775633\n",
      "Validation accuracy: 0.9252\n"
     ]
    }
   ],
   "source": [
    "#print loss and accuracy on validation data\n",
    "print('Validation loss:', score[0])\n",
    "print('Validation accuracy:', score[1])"
   ]
  },
  {
   "cell_type": "code",
   "execution_count": 30,
   "metadata": {
    "colab": {},
    "colab_type": "code",
    "id": "J_evpF_X-Lzf"
   },
   "outputs": [],
   "source": [
    "score1 = model.evaluate(x_test, y_test, verbose=0)"
   ]
  },
  {
   "cell_type": "code",
   "execution_count": 31,
   "metadata": {},
   "outputs": [
    {
     "name": "stdout",
     "output_type": "stream",
     "text": [
      "Test data loss: 0.2286509699821472\n",
      "Test data accuracy: 0.9177\n"
     ]
    }
   ],
   "source": [
    "#print loss and accuracy on test data\n",
    "print('Test data loss:', score1[0])\n",
    "print('Test data accuracy:', score1[1])"
   ]
  },
  {
   "cell_type": "code",
   "execution_count": null,
   "metadata": {},
   "outputs": [],
   "source": []
  }
 ],
 "metadata": {
  "accelerator": "GPU",
  "colab": {
   "name": "CNN Model.ipynb",
   "provenance": [],
   "version": "0.3.2"
  },
  "kernelspec": {
   "display_name": "Python 3",
   "language": "python",
   "name": "python3"
  },
  "language_info": {
   "codemirror_mode": {
    "name": "ipython",
    "version": 3
   },
   "file_extension": ".py",
   "mimetype": "text/x-python",
   "name": "python",
   "nbconvert_exporter": "python",
   "pygments_lexer": "ipython3",
   "version": "3.7.3"
  }
 },
 "nbformat": 4,
 "nbformat_minor": 1
}

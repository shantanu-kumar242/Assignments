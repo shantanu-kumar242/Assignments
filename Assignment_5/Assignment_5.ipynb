{
  "nbformat": 4,
  "nbformat_minor": 0,
  "metadata": {
    "colab": {
      "name": "resubmission.ipynb",
      "version": "0.3.2",
      "provenance": []
    },
    "kernelspec": {
      "name": "python3",
      "display_name": "Python 3"
    },
    "accelerator": "GPU"
  },
  "cells": [
    {
      "cell_type": "code",
      "metadata": {
        "id": "yZRaC_TUxde5",
        "colab_type": "code",
        "colab": {}
      },
      "source": [
        "import tensorflow as tf\n",
        "import keras\n",
        "import numpy as np\n",
        "import pandas as pd\n",
        "import matplotlib.pyplot as plt\n",
        "import cv2\n",
        "import seaborn as sns\n",
        "import skimage as sk\n",
        "from tensorflow.python.framework import ops\n",
        "import idx2numpy\n",
        "import matplotlib.pyplot as plt\n",
        "from tensorflow.examples.tutorials.mnist import input_data\n",
        "%matplotlib inline"
      ],
      "execution_count": 0,
      "outputs": []
    },
    {
      "cell_type": "code",
      "metadata": {
        "id": "Wp1Q49ULOL6S",
        "colab_type": "code",
        "colab": {}
      },
      "source": [
        "from keras.utils import to_categorical"
      ],
      "execution_count": 0,
      "outputs": []
    },
    {
      "cell_type": "code",
      "metadata": {
        "id": "yhv9nWaW1MeC",
        "colab_type": "code",
        "colab": {
          "base_uri": "https://localhost:8080/",
          "height": 191
        },
        "outputId": "dda1d952-592c-47dd-dced-ffa35583a94a"
      },
      "source": [
        ""
      ],
      "execution_count": 3,
      "outputs": [
        {
          "output_type": "stream",
          "text": [
            "Collecting idx2numpy\n",
            "  Downloading https://files.pythonhosted.org/packages/23/6b/abab4652eb249f432c62431907c8de32bdcedb5abdf869ff86653efff981/idx2numpy-1.2.2.tar.gz\n",
            "Requirement already satisfied: numpy in /usr/local/lib/python3.6/dist-packages (from idx2numpy) (1.16.4)\n",
            "Requirement already satisfied: six in /usr/local/lib/python3.6/dist-packages (from idx2numpy) (1.12.0)\n",
            "Building wheels for collected packages: idx2numpy\n",
            "  Building wheel for idx2numpy (setup.py) ... \u001b[?25l\u001b[?25hdone\n",
            "  Stored in directory: /root/.cache/pip/wheels/7a/b5/69/3e0757b3086607e95db70661798fdf98a77a0bb79c54e1f320\n",
            "Successfully built idx2numpy\n",
            "Installing collected packages: idx2numpy\n",
            "Successfully installed idx2numpy-1.2.2\n"
          ],
          "name": "stdout"
        }
      ]
    },
    {
      "cell_type": "code",
      "metadata": {
        "id": "ybPhazdA1kmj",
        "colab_type": "code",
        "colab": {
          "base_uri": "https://localhost:8080/",
          "height": 156
        },
        "outputId": "99466ec4-de14-4754-f28b-5d5827e6b476"
      },
      "source": [
        "((train_data, train_labels),\n",
        "(eval_data, eval_labels)) = tf.keras.datasets.fashion_mnist.load_data()"
      ],
      "execution_count": 7,
      "outputs": [
        {
          "output_type": "stream",
          "text": [
            "Downloading data from https://storage.googleapis.com/tensorflow/tf-keras-datasets/train-labels-idx1-ubyte.gz\n",
            "32768/29515 [=================================] - 0s 0us/step\n",
            "Downloading data from https://storage.googleapis.com/tensorflow/tf-keras-datasets/train-images-idx3-ubyte.gz\n",
            "26427392/26421880 [==============================] - 0s 0us/step\n",
            "Downloading data from https://storage.googleapis.com/tensorflow/tf-keras-datasets/t10k-labels-idx1-ubyte.gz\n",
            "8192/5148 [===============================================] - 0s 0us/step\n",
            "Downloading data from https://storage.googleapis.com/tensorflow/tf-keras-datasets/t10k-images-idx3-ubyte.gz\n",
            "4423680/4422102 [==============================] - 0s 0us/step\n"
          ],
          "name": "stdout"
        }
      ]
    },
    {
      "cell_type": "code",
      "metadata": {
        "id": "iH3kPALcLQKX",
        "colab_type": "code",
        "colab": {}
      },
      "source": [
        "#Normalizing dataset\n",
        "train_data = train_data/np.float32(255)\n",
        "train_labels = train_labels.astype(np.int32)\n",
        "\n",
        "eval_data = eval_data/np.float32(255)\n",
        "eval_labels = eval_labels.astype(np.int32)"
      ],
      "execution_count": 0,
      "outputs": []
    },
    {
      "cell_type": "code",
      "metadata": {
        "id": "Y67OCCKrMmWF",
        "colab_type": "code",
        "colab": {}
      },
      "source": [
        "#Reshaping dataset\n",
        "train_data = train_data.reshape(train_data.shape[0], 28, 28, 1)\n",
        "eval_data = eval_data.reshape(eval_data.shape[0], 28, 28, 1)"
      ],
      "execution_count": 0,
      "outputs": []
    },
    {
      "cell_type": "code",
      "metadata": {
        "id": "sbEIszBmNxdW",
        "colab_type": "code",
        "colab": {}
      },
      "source": [
        "#Converting to categorical\n",
        "train_labels = to_categorical(train_labels, 10)\n",
        "eval_labels = to_categorical(eval_labels, 10)"
      ],
      "execution_count": 0,
      "outputs": []
    },
    {
      "cell_type": "code",
      "metadata": {
        "id": "6ytaiN9ma0T7",
        "colab_type": "code",
        "colab": {
          "base_uri": "https://localhost:8080/",
          "height": 191
        },
        "outputId": "e4a3f497-0381-466e-aa19-1535f9737ab4"
      },
      "source": [
        "print(eval_labels[:10,])"
      ],
      "execution_count": 134,
      "outputs": [
        {
          "output_type": "stream",
          "text": [
            "[[0. 0. 0. 0. 0. 0. 0. 0. 0. 1.]\n",
            " [0. 0. 1. 0. 0. 0. 0. 0. 0. 0.]\n",
            " [0. 1. 0. 0. 0. 0. 0. 0. 0. 0.]\n",
            " [0. 1. 0. 0. 0. 0. 0. 0. 0. 0.]\n",
            " [0. 0. 0. 0. 0. 0. 1. 0. 0. 0.]\n",
            " [0. 1. 0. 0. 0. 0. 0. 0. 0. 0.]\n",
            " [0. 0. 0. 0. 1. 0. 0. 0. 0. 0.]\n",
            " [0. 0. 0. 0. 0. 0. 1. 0. 0. 0.]\n",
            " [0. 0. 0. 0. 0. 1. 0. 0. 0. 0.]\n",
            " [0. 0. 0. 0. 0. 0. 0. 1. 0. 0.]]\n"
          ],
          "name": "stdout"
        }
      ]
    },
    {
      "cell_type": "markdown",
      "metadata": {
        "id": "CnUUqYID5Z2o",
        "colab_type": "text"
      },
      "source": [
        "Using keras sequential model for CNN implementation: "
      ]
    },
    {
      "cell_type": "code",
      "metadata": {
        "id": "cJwaDRPI14ND",
        "colab_type": "code",
        "colab": {}
      },
      "source": [
        "fmnist_model=tf.keras.Sequential()"
      ],
      "execution_count": 0,
      "outputs": []
    },
    {
      "cell_type": "code",
      "metadata": {
        "id": "5W8cq-h_aDCW",
        "colab_type": "code",
        "colab": {
          "base_uri": "https://localhost:8080/",
          "height": 34
        },
        "outputId": "aeb23196-de63-4a06-816d-6058bb034e46"
      },
      "source": [
        "tf.__version__"
      ],
      "execution_count": 131,
      "outputs": [
        {
          "output_type": "execute_result",
          "data": {
            "text/plain": [
              "'1.14.0-rc1'"
            ]
          },
          "metadata": {
            "tags": []
          },
          "execution_count": 131
        }
      ]
    },
    {
      "cell_type": "markdown",
      "metadata": {
        "id": "N67XzWrd8e_5",
        "colab_type": "text"
      },
      "source": [
        "Adding first conv layer:\n"
      ]
    },
    {
      "cell_type": "code",
      "metadata": {
        "id": "Giqd1_Lk5Tgf",
        "colab_type": "code",
        "colab": {}
      },
      "source": [
        "fmnist_model.add(tf.keras.layers.Conv2D(filters=32,kernel_size=3,padding='same',activation='relu',input_shape=(28, 28, 1)))"
      ],
      "execution_count": 0,
      "outputs": []
    },
    {
      "cell_type": "code",
      "metadata": {
        "id": "t0FZxQ4OaiTm",
        "colab_type": "code",
        "colab": {
          "base_uri": "https://localhost:8080/",
          "height": 712
        },
        "outputId": "65bd7dfb-c083-4b25-cfd3-0b42259c0204"
      },
      "source": [
        "fmnist_model.summary()"
      ],
      "execution_count": 132,
      "outputs": [
        {
          "output_type": "stream",
          "text": [
            "Model: \"sequential_8\"\n",
            "_________________________________________________________________\n",
            "Layer (type)                 Output Shape              Param #   \n",
            "=================================================================\n",
            "conv2d_15 (Conv2D)           (None, 28, 28, 32)        320       \n",
            "_________________________________________________________________\n",
            "max_pooling2d_15 (MaxPooling (None, 14, 14, 32)        0         \n",
            "_________________________________________________________________\n",
            "batch_normalization_11 (Batc (None, 14, 14, 32)        128       \n",
            "_________________________________________________________________\n",
            "dropout_15 (Dropout)         (None, 14, 14, 32)        0         \n",
            "_________________________________________________________________\n",
            "conv2d_16 (Conv2D)           (None, 14, 14, 32)        9248      \n",
            "_________________________________________________________________\n",
            "max_pooling2d_16 (MaxPooling (None, 7, 7, 32)          0         \n",
            "_________________________________________________________________\n",
            "batch_normalization_12 (Batc (None, 7, 7, 32)          128       \n",
            "_________________________________________________________________\n",
            "dropout_16 (Dropout)         (None, 7, 7, 32)          0         \n",
            "_________________________________________________________________\n",
            "conv2d_17 (Conv2D)           (None, 7, 7, 32)          9248      \n",
            "_________________________________________________________________\n",
            "max_pooling2d_17 (MaxPooling (None, 3, 3, 32)          0         \n",
            "_________________________________________________________________\n",
            "batch_normalization_13 (Batc (None, 3, 3, 32)          128       \n",
            "_________________________________________________________________\n",
            "dropout_17 (Dropout)         (None, 3, 3, 32)          0         \n",
            "_________________________________________________________________\n",
            "flatten_4 (Flatten)          (None, 288)               0         \n",
            "_________________________________________________________________\n",
            "dense_7 (Dense)              (None, 288)               83232     \n",
            "_________________________________________________________________\n",
            "dropout_18 (Dropout)         (None, 288)               0         \n",
            "_________________________________________________________________\n",
            "dense_8 (Dense)              (None, 10)                2890      \n",
            "=================================================================\n",
            "Total params: 105,322\n",
            "Trainable params: 105,130\n",
            "Non-trainable params: 192\n",
            "_________________________________________________________________\n"
          ],
          "name": "stdout"
        }
      ]
    },
    {
      "cell_type": "markdown",
      "metadata": {
        "id": "V8NT2X5X8lDh",
        "colab_type": "text"
      },
      "source": [
        "Adding Maxpool layer:"
      ]
    },
    {
      "cell_type": "code",
      "metadata": {
        "id": "5ZzF6QJp8B3g",
        "colab_type": "code",
        "colab": {}
      },
      "source": [
        "fmnist_model.add(tf.keras.layers.MaxPooling2D(pool_size=2,strides=2))"
      ],
      "execution_count": 0,
      "outputs": []
    },
    {
      "cell_type": "markdown",
      "metadata": {
        "id": "uTyUj9s5-mB1",
        "colab_type": "text"
      },
      "source": [
        "batch normalization(Optional/It speeds up training):"
      ]
    },
    {
      "cell_type": "code",
      "metadata": {
        "id": "DFWWMdX5-mY1",
        "colab_type": "code",
        "colab": {}
      },
      "source": [
        "fmnist_model.add(tf.keras.layers.BatchNormalization())"
      ],
      "execution_count": 0,
      "outputs": []
    },
    {
      "cell_type": "markdown",
      "metadata": {
        "id": "rO8fOrxU86Fu",
        "colab_type": "text"
      },
      "source": [
        "Adding dropout to our model for regularisation (optional):"
      ]
    },
    {
      "cell_type": "code",
      "metadata": {
        "id": "l6qZhXFs84wS",
        "colab_type": "code",
        "colab": {}
      },
      "source": [
        "fmnist_model.add(tf.keras.layers.Dropout(0.25))\n",
        "#dropout parameter is float between 0 and 1. Fraction of the input units to drop."
      ],
      "execution_count": 0,
      "outputs": []
    },
    {
      "cell_type": "markdown",
      "metadata": {
        "id": "lsN7g8k38rZb",
        "colab_type": "text"
      },
      "source": [
        "Adding second conv layer to our model:"
      ]
    },
    {
      "cell_type": "code",
      "metadata": {
        "id": "ug5rijfg8XFA",
        "colab_type": "code",
        "colab": {}
      },
      "source": [
        "fmnist_model.add(tf.keras.layers.Conv2D(filters=32,kernel_size=3,padding='same',activation='relu'))"
      ],
      "execution_count": 0,
      "outputs": []
    },
    {
      "cell_type": "markdown",
      "metadata": {
        "id": "fJ6AAZB_A5v5",
        "colab_type": "text"
      },
      "source": [
        "Adding 2nd max pool layer:"
      ]
    },
    {
      "cell_type": "code",
      "metadata": {
        "id": "LJwUKMU7AopI",
        "colab_type": "code",
        "colab": {}
      },
      "source": [
        "fmnist_model.add(tf.keras.layers.MaxPooling2D(pool_size=2,strides=2))"
      ],
      "execution_count": 0,
      "outputs": []
    },
    {
      "cell_type": "markdown",
      "metadata": {
        "colab_type": "text",
        "id": "d5mOIpMIBYJz"
      },
      "source": [
        "implementing batch normalization on second layer(Optional/It speeds up training):"
      ]
    },
    {
      "cell_type": "code",
      "metadata": {
        "id": "GQ1KMEeBBPU3",
        "colab_type": "code",
        "colab": {}
      },
      "source": [
        "fmnist_model.add(tf.keras.layers.BatchNormalization())"
      ],
      "execution_count": 0,
      "outputs": []
    },
    {
      "cell_type": "markdown",
      "metadata": {
        "id": "EUOWpFuAB9ua",
        "colab_type": "text"
      },
      "source": [
        "adding dropout to our model for regularization(optional):"
      ]
    },
    {
      "cell_type": "code",
      "metadata": {
        "id": "to4fcxuXCBi_",
        "colab_type": "code",
        "colab": {}
      },
      "source": [
        "fmnist_model.add(tf.keras.layers.Dropout(0.25))\n",
        "#dropout parameter is float between 0 and 1. Fraction of the input units to drop."
      ],
      "execution_count": 0,
      "outputs": []
    },
    {
      "cell_type": "markdown",
      "metadata": {
        "id": "D34J6iy0CWt9",
        "colab_type": "text"
      },
      "source": [
        "adding third conv layer with batch normalization and dropout:"
      ]
    },
    {
      "cell_type": "code",
      "metadata": {
        "id": "-6K-gaG2CZM1",
        "colab_type": "code",
        "colab": {}
      },
      "source": [
        "fmnist_model.add(tf.keras.layers.Conv2D(filters=32,kernel_size=3,padding='same',activation='relu'))\n",
        "fmnist_model.add(tf.keras.layers.MaxPooling2D(pool_size=2,strides=2))\n",
        "fmnist_model.add(tf.keras.layers.BatchNormalization())\n",
        "fmnist_model.add(tf.keras.layers.Dropout(0.25))"
      ],
      "execution_count": 0,
      "outputs": []
    },
    {
      "cell_type": "markdown",
      "metadata": {
        "id": "AhW7R2TvDzV9",
        "colab_type": "text"
      },
      "source": [
        "Flatten and feed it as input to fully connected layer. Also adding a dropout and relu. Softmax for outer layer for 10 class classification:"
      ]
    },
    {
      "cell_type": "code",
      "metadata": {
        "id": "dt93czyTCf-F",
        "colab_type": "code",
        "colab": {}
      },
      "source": [
        "fmnist_model.add(tf.keras.layers.Flatten())\n",
        "fmnist_model.add(tf.keras.layers.Dense(288, activation='relu'))\n",
        "fmnist_model.add(tf.keras.layers.Dropout(0.25))\n",
        "fmnist_model.add(tf.keras.layers.Dense(10, activation='softmax'))"
      ],
      "execution_count": 0,
      "outputs": []
    },
    {
      "cell_type": "markdown",
      "metadata": {
        "id": "IvF2ZE6fFdnr",
        "colab_type": "text"
      },
      "source": [
        "Fashion MNIST Model Summary:"
      ]
    },
    {
      "cell_type": "code",
      "metadata": {
        "id": "F1f7FWYnFd3P",
        "colab_type": "code",
        "colab": {
          "base_uri": "https://localhost:8080/",
          "height": 712
        },
        "outputId": "b0439b6e-2991-4f2d-8f3d-8a2eddd3cb48"
      },
      "source": [
        "fmnist_model.summary()"
      ],
      "execution_count": 95,
      "outputs": [
        {
          "output_type": "stream",
          "text": [
            "Model: \"sequential_8\"\n",
            "_________________________________________________________________\n",
            "Layer (type)                 Output Shape              Param #   \n",
            "=================================================================\n",
            "conv2d_15 (Conv2D)           (None, 28, 28, 32)        320       \n",
            "_________________________________________________________________\n",
            "max_pooling2d_15 (MaxPooling (None, 14, 14, 32)        0         \n",
            "_________________________________________________________________\n",
            "batch_normalization_11 (Batc (None, 14, 14, 32)        128       \n",
            "_________________________________________________________________\n",
            "dropout_15 (Dropout)         (None, 14, 14, 32)        0         \n",
            "_________________________________________________________________\n",
            "conv2d_16 (Conv2D)           (None, 14, 14, 32)        9248      \n",
            "_________________________________________________________________\n",
            "max_pooling2d_16 (MaxPooling (None, 7, 7, 32)          0         \n",
            "_________________________________________________________________\n",
            "batch_normalization_12 (Batc (None, 7, 7, 32)          128       \n",
            "_________________________________________________________________\n",
            "dropout_16 (Dropout)         (None, 7, 7, 32)          0         \n",
            "_________________________________________________________________\n",
            "conv2d_17 (Conv2D)           (None, 7, 7, 32)          9248      \n",
            "_________________________________________________________________\n",
            "max_pooling2d_17 (MaxPooling (None, 3, 3, 32)          0         \n",
            "_________________________________________________________________\n",
            "batch_normalization_13 (Batc (None, 3, 3, 32)          128       \n",
            "_________________________________________________________________\n",
            "dropout_17 (Dropout)         (None, 3, 3, 32)          0         \n",
            "_________________________________________________________________\n",
            "flatten_4 (Flatten)          (None, 288)               0         \n",
            "_________________________________________________________________\n",
            "dense_7 (Dense)              (None, 288)               83232     \n",
            "_________________________________________________________________\n",
            "dropout_18 (Dropout)         (None, 288)               0         \n",
            "_________________________________________________________________\n",
            "dense_8 (Dense)              (None, 10)                2890      \n",
            "=================================================================\n",
            "Total params: 105,322\n",
            "Trainable params: 105,130\n",
            "Non-trainable params: 192\n",
            "_________________________________________________________________\n"
          ],
          "name": "stdout"
        }
      ]
    },
    {
      "cell_type": "markdown",
      "metadata": {
        "id": "TGrP0AibFpNF",
        "colab_type": "text"
      },
      "source": [
        "Compiling the the above three conv and one fully connected layer:"
      ]
    },
    {
      "cell_type": "code",
      "metadata": {
        "id": "b8H8hIraFpad",
        "colab_type": "code",
        "colab": {}
      },
      "source": [
        "fmnist_model.compile(loss='categorical_crossentropy',\n",
        "             optimizer='adam',\n",
        "             metrics=['accuracy'])"
      ],
      "execution_count": 0,
      "outputs": []
    },
    {
      "cell_type": "markdown",
      "metadata": {
        "id": "q_xMR4zqF46n",
        "colab_type": "text"
      },
      "source": [
        "Training the above model with hyperparameter batch size of 32 and number of epochs= 10"
      ]
    },
    {
      "cell_type": "code",
      "metadata": {
        "id": "dsa41Om1F5IU",
        "colab_type": "code",
        "colab": {
          "base_uri": "https://localhost:8080/",
          "height": 399
        },
        "outputId": "7e30cd22-d111-44b4-cc10-29933ec043b8"
      },
      "source": [
        "fmnist_model.fit(train_data,\n",
        "         train_labels,\n",
        "         batch_size=32,\n",
        "         epochs=10,\n",
        "         verbose=1,\n",
        "         validation_data=(eval_data, eval_labels))"
      ],
      "execution_count": 110,
      "outputs": [
        {
          "output_type": "stream",
          "text": [
            "Train on 60000 samples, validate on 10000 samples\n",
            "Epoch 1/10\n",
            "60000/60000 [==============================] - 10s 169us/sample - loss: 0.2639 - acc: 0.9017 - val_loss: 18.2009 - val_acc: 0.1023\n",
            "Epoch 2/10\n",
            "60000/60000 [==============================] - 10s 168us/sample - loss: 0.2599 - acc: 0.9028 - val_loss: 0.9959 - val_acc: 0.7093\n",
            "Epoch 3/10\n",
            "60000/60000 [==============================] - 10s 168us/sample - loss: 0.2595 - acc: 0.9035 - val_loss: 48.3545 - val_acc: 0.1441\n",
            "Epoch 4/10\n",
            "60000/60000 [==============================] - 10s 167us/sample - loss: 0.2567 - acc: 0.9046 - val_loss: 2.9675 - val_acc: 0.4409\n",
            "Epoch 5/10\n",
            "60000/60000 [==============================] - 10s 167us/sample - loss: 0.2543 - acc: 0.9043 - val_loss: 3.2602 - val_acc: 0.3210\n",
            "Epoch 6/10\n",
            "60000/60000 [==============================] - 10s 167us/sample - loss: 0.2536 - acc: 0.9044 - val_loss: 2.7431 - val_acc: 0.3531\n",
            "Epoch 7/10\n",
            "60000/60000 [==============================] - 10s 168us/sample - loss: 0.2513 - acc: 0.9061 - val_loss: 10.1139 - val_acc: 0.2626\n",
            "Epoch 8/10\n",
            "60000/60000 [==============================] - 10s 169us/sample - loss: 0.2591 - acc: 0.9034 - val_loss: 2.8399 - val_acc: 0.4963\n",
            "Epoch 9/10\n",
            "60000/60000 [==============================] - 10s 168us/sample - loss: 0.2578 - acc: 0.9057 - val_loss: 8.8320 - val_acc: 0.1344\n",
            "Epoch 10/10\n",
            "60000/60000 [==============================] - 10s 167us/sample - loss: 0.2536 - acc: 0.9048 - val_loss: 0.2434 - val_acc: 0.9115\n"
          ],
          "name": "stdout"
        },
        {
          "output_type": "execute_result",
          "data": {
            "text/plain": [
              "<tensorflow.python.keras.callbacks.History at 0x7fe9801a5eb8>"
            ]
          },
          "metadata": {
            "tags": []
          },
          "execution_count": 110
        }
      ]
    },
    {
      "cell_type": "markdown",
      "metadata": {
        "id": "lt4Z03WKGLo6",
        "colab_type": "text"
      },
      "source": [
        "Evaluating the model on test data:"
      ]
    },
    {
      "cell_type": "code",
      "metadata": {
        "id": "Zi21OuQXGL6M",
        "colab_type": "code",
        "colab": {
          "base_uri": "https://localhost:8080/",
          "height": 69
        },
        "outputId": "d01191f6-0ded-4cf6-f79d-d9d9269559b9"
      },
      "source": [
        "\n",
        "score = fmnist_model.evaluate(eval_data, eval_labels, verbose=1)\n",
        "\n",
        "# Print test accuracy\n",
        "print('\\n', 'Test accuracy:', score[1])"
      ],
      "execution_count": 111,
      "outputs": [
        {
          "output_type": "stream",
          "text": [
            "10000/10000 [==============================] - 1s 80us/sample - loss: 0.2434 - acc: 0.9115\n",
            "\n",
            " Test accuracy: 0.9115\n"
          ],
          "name": "stdout"
        }
      ]
    },
    {
      "cell_type": "code",
      "metadata": {
        "id": "t3RkICJRO9kS",
        "colab_type": "code",
        "colab": {
          "base_uri": "https://localhost:8080/",
          "height": 416
        },
        "outputId": "81a89067-469b-40ac-d138-207c2132485a"
      },
      "source": [
        "#Early stopping using keras callback\n",
        "from tensorflow.keras.callbacks import EarlyStopping\n",
        "\n",
        "earlyStop=EarlyStopping(monitor=\"val_acc\",verbose=1,mode='min',patience=3)\n",
        "fmnist_model.fit(train_data,\n",
        "         train_labels,\n",
        "         batch_size=32,\n",
        "         epochs=10,\n",
        "         validation_data=(eval_data, eval_labels),\n",
        "         callbacks=[earlyStop])"
      ],
      "execution_count": 135,
      "outputs": [
        {
          "output_type": "stream",
          "text": [
            "Train on 60000 samples, validate on 10000 samples\n",
            "Epoch 1/10\n",
            "60000/60000 [==============================] - 10s 171us/sample - loss: 0.2347 - acc: 0.9119 - val_loss: 0.5810 - val_acc: 0.8097\n",
            "Epoch 2/10\n",
            "60000/60000 [==============================] - 10s 166us/sample - loss: 0.2334 - acc: 0.9105 - val_loss: 1.8957 - val_acc: 0.4261\n",
            "Epoch 3/10\n",
            "60000/60000 [==============================] - 10s 166us/sample - loss: 0.2325 - acc: 0.9128 - val_loss: 4.7252 - val_acc: 0.4949\n",
            "Epoch 4/10\n",
            "60000/60000 [==============================] - 10s 166us/sample - loss: 0.2331 - acc: 0.9128 - val_loss: 1.9326 - val_acc: 0.4953\n",
            "Epoch 5/10\n",
            "60000/60000 [==============================] - 10s 167us/sample - loss: 0.2325 - acc: 0.9127 - val_loss: 4.2564 - val_acc: 0.2371\n",
            "Epoch 6/10\n",
            "60000/60000 [==============================] - 10s 165us/sample - loss: 0.2318 - acc: 0.9125 - val_loss: 11.9247 - val_acc: 0.1098\n",
            "Epoch 7/10\n",
            "60000/60000 [==============================] - 10s 165us/sample - loss: 0.2308 - acc: 0.9131 - val_loss: 10.7349 - val_acc: 0.1029\n",
            "Epoch 8/10\n",
            "60000/60000 [==============================] - 10s 167us/sample - loss: 0.2318 - acc: 0.9139 - val_loss: 0.4369 - val_acc: 0.8284\n",
            "Epoch 9/10\n",
            "60000/60000 [==============================] - 10s 165us/sample - loss: 0.2304 - acc: 0.9132 - val_loss: 1.8458 - val_acc: 0.4943\n",
            "Epoch 10/10\n",
            "60000/60000 [==============================] - 10s 165us/sample - loss: 0.2457 - acc: 0.9084 - val_loss: 11.3084 - val_acc: 0.4114\n",
            "Epoch 00010: early stopping\n"
          ],
          "name": "stdout"
        },
        {
          "output_type": "execute_result",
          "data": {
            "text/plain": [
              "<tensorflow.python.keras.callbacks.History at 0x7fe980196978>"
            ]
          },
          "metadata": {
            "tags": []
          },
          "execution_count": 135
        }
      ]
    },
    {
      "cell_type": "code",
      "metadata": {
        "id": "sxKXB82pVMdZ",
        "colab_type": "code",
        "colab": {
          "base_uri": "https://localhost:8080/",
          "height": 34
        },
        "outputId": "e288a3d5-ddd0-42a2-cdda-27f6eef4a156"
      },
      "source": [
        "score1=fmnist_model.evaluate(eval_data, eval_labels, verbose=1)"
      ],
      "execution_count": 136,
      "outputs": [
        {
          "output_type": "stream",
          "text": [
            "10000/10000 [==============================] - 1s 80us/sample - loss: 11.3084 - acc: 0.4114\n"
          ],
          "name": "stdout"
        }
      ]
    },
    {
      "cell_type": "code",
      "metadata": {
        "id": "0ZX_q02-VTKG",
        "colab_type": "code",
        "colab": {
          "base_uri": "https://localhost:8080/",
          "height": 52
        },
        "outputId": "b2340b2b-6a6e-4849-907a-ddd30673ee0e"
      },
      "source": [
        "#print loss and accuracy on test data\n",
        "print('Test data loss:', score1[0])\n",
        "print('Test data accuracy:', score1[1])"
      ],
      "execution_count": 137,
      "outputs": [
        {
          "output_type": "stream",
          "text": [
            "Test data loss: 11.308396784973144\n",
            "Test data accuracy: 0.4114\n"
          ],
          "name": "stdout"
        }
      ]
    },
    {
      "cell_type": "code",
      "metadata": {
        "id": "INEA6J_XSAnt",
        "colab_type": "code",
        "colab": {}
      },
      "source": [
        "from tensorflow.keras.callbacks import ReduceLROnPlateau"
      ],
      "execution_count": 0,
      "outputs": []
    },
    {
      "cell_type": "code",
      "metadata": {
        "id": "g3w-muMhSQzQ",
        "colab_type": "code",
        "colab": {
          "base_uri": "https://localhost:8080/",
          "height": 416
        },
        "outputId": "537449fd-f079-4017-9864-5a8c36ba903d"
      },
      "source": [
        "#ReduceLRonPlateau using keras callback\n",
        "reduce_lr = ReduceLROnPlateau(monitor='val_loss', factor=0.1, patience=10, verbose=1, epsilon=1e-4, mode='min')\n",
        "fmnist_model.fit(train_data,\n",
        "         train_labels,\n",
        "         batch_size=32,\n",
        "         epochs=10,\n",
        "         validation_data=(eval_data, eval_labels),\n",
        "         callbacks=[reduce_lr])"
      ],
      "execution_count": 128,
      "outputs": [
        {
          "output_type": "stream",
          "text": [
            "W0618 11:26:44.172710 140642790233984 callbacks.py:1791] `epsilon` argument is deprecated and will be removed, use `min_delta` instead.\n"
          ],
          "name": "stderr"
        },
        {
          "output_type": "stream",
          "text": [
            "Train on 60000 samples, validate on 10000 samples\n",
            "Epoch 1/10\n",
            "60000/60000 [==============================] - 10s 170us/sample - loss: 0.2411 - acc: 0.9107 - val_loss: 5.8269 - val_acc: 0.1454\n",
            "Epoch 2/10\n",
            "60000/60000 [==============================] - 10s 165us/sample - loss: 0.2403 - acc: 0.9105 - val_loss: 1.9232 - val_acc: 0.6359\n",
            "Epoch 3/10\n",
            "60000/60000 [==============================] - 10s 167us/sample - loss: 0.2414 - acc: 0.9099 - val_loss: 4.7686 - val_acc: 0.4708\n",
            "Epoch 4/10\n",
            "60000/60000 [==============================] - 10s 169us/sample - loss: 0.2366 - acc: 0.9116 - val_loss: 6.0719 - val_acc: 0.2498\n",
            "Epoch 5/10\n",
            "60000/60000 [==============================] - 10s 165us/sample - loss: 0.2377 - acc: 0.9104 - val_loss: 5.4876 - val_acc: 0.2937\n",
            "Epoch 6/10\n",
            "60000/60000 [==============================] - 10s 166us/sample - loss: 0.2384 - acc: 0.9100 - val_loss: 6.7707 - val_acc: 0.3633\n",
            "Epoch 7/10\n",
            "60000/60000 [==============================] - 10s 167us/sample - loss: 0.2365 - acc: 0.9116 - val_loss: 9.4485 - val_acc: 0.1213\n",
            "Epoch 8/10\n",
            "60000/60000 [==============================] - 10s 166us/sample - loss: 0.2346 - acc: 0.9123 - val_loss: 50.1682 - val_acc: 0.1001\n",
            "Epoch 9/10\n",
            "60000/60000 [==============================] - 10s 165us/sample - loss: 0.2350 - acc: 0.9117 - val_loss: 1.6103 - val_acc: 0.6017\n",
            "Epoch 10/10\n",
            "60000/60000 [==============================] - 10s 166us/sample - loss: 0.2359 - acc: 0.9105 - val_loss: 0.8130 - val_acc: 0.7394\n"
          ],
          "name": "stdout"
        },
        {
          "output_type": "execute_result",
          "data": {
            "text/plain": [
              "<tensorflow.python.keras.callbacks.History at 0x7fe9800f7978>"
            ]
          },
          "metadata": {
            "tags": []
          },
          "execution_count": 128
        }
      ]
    },
    {
      "cell_type": "code",
      "metadata": {
        "id": "5gervCu6S2M9",
        "colab_type": "code",
        "colab": {
          "base_uri": "https://localhost:8080/",
          "height": 34
        },
        "outputId": "69b9b23a-b2ec-4dea-ed15-0c2a7f047590"
      },
      "source": [
        "score2 = fmnist_model.evaluate(eval_data, eval_labels, verbose=1)"
      ],
      "execution_count": 129,
      "outputs": [
        {
          "output_type": "stream",
          "text": [
            "10000/10000 [==============================] - 1s 75us/sample - loss: 0.8130 - acc: 0.7394\n"
          ],
          "name": "stdout"
        }
      ]
    },
    {
      "cell_type": "code",
      "metadata": {
        "id": "FW5n67u-S4ur",
        "colab_type": "code",
        "colab": {
          "base_uri": "https://localhost:8080/",
          "height": 52
        },
        "outputId": "edf2ea31-f6a6-449d-fa88-f5028dffdb85"
      },
      "source": [
        "#print loss and accuracy on test data\n",
        "print('Test data loss:', score2[0])\n",
        "print('Test data accuracy:', score2[1])"
      ],
      "execution_count": 130,
      "outputs": [
        {
          "output_type": "stream",
          "text": [
            "Test data loss: 0.8130333958625794\n",
            "Test data accuracy: 0.7394\n"
          ],
          "name": "stdout"
        }
      ]
    },
    {
      "cell_type": "markdown",
      "metadata": {
        "id": "7suS4sJfZj7T",
        "colab_type": "text"
      },
      "source": [
        "We can observe that on early stopping and reduce"
      ]
    },
    {
      "cell_type": "code",
      "metadata": {
        "id": "wbTiC_DZTyGq",
        "colab_type": "code",
        "colab": {}
      },
      "source": [
        ""
      ],
      "execution_count": 0,
      "outputs": []
    }
  ]
}
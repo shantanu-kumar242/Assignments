{
 "cells": [
  {
   "cell_type": "code",
   "execution_count": 78,
   "metadata": {
    "colab": {},
    "colab_type": "code",
    "id": "597wDiAvGvuB"
   },
   "outputs": [],
   "source": [
    "#Importing Required packages\n",
    "import numpy as np\n",
    "import idx2numpy\n",
    "import matplotlib.pyplot as plt\n",
    "%matplotlib inline"
   ]
  },
  {
   "cell_type": "code",
   "execution_count": 79,
   "metadata": {},
   "outputs": [],
   "source": [
    "#MNIST contains images of hand-written digits, each 28 x 28 pixels, in greyscale with pixel-values from 0 to 255.\n",
    "file = 'train-images-idx3-ubyte'   #importing training images\n",
    "arr = idx2numpy.convert_from_file(file)   #converting to numpy array\n",
    "file1 = 'train-labels-idx1-ubyte'       #importing training labels\n",
    "arr1 = idx2numpy.convert_from_file(file1)  #converting to numpy array"
   ]
  },
  {
   "cell_type": "code",
   "execution_count": 80,
   "metadata": {},
   "outputs": [],
   "source": [
    "x_train = arr\n",
    "x_train = x_train.flatten().reshape(-1,28*28) #Flatten to give input in input node\n",
    "x_train = x_train / 255.0    #We’ll normalize the data to keep our gradients manageable\n",
    "gt_indices = arr1\n",
    "train_length = len(x_train)"
   ]
  },
  {
   "cell_type": "code",
   "execution_count": 81,
   "metadata": {},
   "outputs": [],
   "source": [
    "batch_size = 64 #batch size was tuned by using 32/64\n",
    "input_dim = 784 #number of nodes in input nodes is 28*28\n",
    "hidden_1_dim = 512  #Number of nodes in first hidden layer was tuned by taking 256/392/512\n",
    "output_dim = 10   # For 10 digits, output layers has 10 nodes \n",
    "learning_rate = 1e-2  #Learning rate is tuned by taking 1e-1/1e-2/1e-3/1e-4"
   ]
  },
  {
   "cell_type": "code",
   "execution_count": 82,
   "metadata": {
    "colab": {},
    "colab_type": "code",
    "id": "hImaaujc5zXg"
   },
   "outputs": [],
   "source": [
    "y_train = np.zeros((train_length, output_dim))\n",
    "for i in range(train_length):\n",
    "    y_train[i,gt_indices[i]] = 1\n",
    "\n",
    "num_minibatches = np.floor(train_length/batch_size).astype(int) "
   ]
  },
  {
   "cell_type": "code",
   "execution_count": 83,
   "metadata": {
    "colab": {},
    "colab_type": "code",
    "id": "C9HRf0Wj52cK"
   },
   "outputs": [],
   "source": [
    "W1 = 0.2*np.random.randn(input_dim, hidden_1_dim) #Random Weight Initialisation for nodes between input and first hidden layer\n",
    "W2 = 0.2*np.random.randn(hidden_1_dim,output_dim)   #Random weight initialisation for nodes between first hidden layer and output layer"
   ]
  },
  {
   "cell_type": "code",
   "execution_count": 84,
   "metadata": {},
   "outputs": [],
   "source": [
    "def relu(a):                    #Relu Activation Function to be used in hidden layer\n",
    "    return np.maximum(a,0)\n",
    "\n",
    "def grad_relu(x):               #Gradient of Relu Activation Function\n",
    "    return 1. * (x > 0)"
   ]
  },
  {
   "cell_type": "code",
   "execution_count": 85,
   "metadata": {
    "colab": {},
    "colab_type": "code",
    "id": "PmZRrEVb6CJy"
   },
   "outputs": [],
   "source": [
    "def softmax(z):                    #Softmax activation function, to be used at outer layer\n",
    "  \n",
    "    return np.exp(z) / np.sum(np.exp(z),axis=1,keepdims=True)\n",
    "    \n",
    "    pass\n"
   ]
  },
  {
   "cell_type": "code",
   "execution_count": 86,
   "metadata": {
    "colab": {
     "base_uri": "https://localhost:8080/",
     "height": 697
    },
    "colab_type": "code",
    "id": "Gjz4yhwE6JQw",
    "outputId": "341578db-29a4-48ca-b0f8-a0343aadd24b"
   },
   "outputs": [
    {
     "name": "stdout",
     "output_type": "stream",
     "text": [
      " Epoch: 0, iteration: 0, Loss: 9.8334 \n",
      " Epoch: 1, iteration: 937, Loss: 0.1079 \n",
      " Epoch: 2, iteration: 1874, Loss: 0.0983 \n",
      " Epoch: 3, iteration: 2811, Loss: 0.0715 \n",
      " Epoch: 4, iteration: 3748, Loss: 0.0235 \n",
      " Epoch: 5, iteration: 4685, Loss: 0.0075 \n",
      " Epoch: 6, iteration: 5622, Loss: 0.0030 \n",
      " Epoch: 7, iteration: 6559, Loss: 0.0033 \n",
      " Epoch: 8, iteration: 7496, Loss: 0.0030 \n",
      " Epoch: 9, iteration: 8433, Loss: 0.0029 \n",
      " Epoch: 10, iteration: 9370, Loss: 0.0046 \n",
      " Epoch: 11, iteration: 10307, Loss: 0.0045 \n",
      " Epoch: 12, iteration: 11244, Loss: 0.0044 \n",
      " Epoch: 13, iteration: 12181, Loss: 0.0042 \n",
      " Epoch: 14, iteration: 13118, Loss: 0.0041 \n",
      " Epoch: 15, iteration: 14055, Loss: 0.0039 \n",
      " Epoch: 16, iteration: 14992, Loss: 0.0038 \n",
      " Epoch: 17, iteration: 15929, Loss: 0.0037 \n",
      " Epoch: 18, iteration: 16866, Loss: 0.0036 \n",
      " Epoch: 19, iteration: 17803, Loss: 0.0035 \n",
      " Epoch: 20, iteration: 18740, Loss: 0.0035 \n",
      " Epoch: 21, iteration: 19677, Loss: 0.0035 \n"
     ]
    },
    {
     "data": {
      "image/png": "[encoded data removed]",
      "text/plain": [
       "<Figure size 432x288 with 1 Axes>"
      ]
     },
     "metadata": {
      "needs_background": "light"
     },
     "output_type": "display_data"
    }
   ],
   "source": [
    "\n",
    "no_of_iterations = 20000          # Number of iterations was tuned by using 10000/15000/20000/25000/30000\n",
    "loss_list=[]\n",
    "i = []\n",
    "i_epoch = 0\n",
    "\n",
    "for i_iter in range(no_of_iterations):\n",
    "    #Forward Propagation\n",
    "    batch_elem_idx = i_iter%num_minibatches\n",
    "    x_batchinput = x_train[batch_elem_idx*batch_size:(batch_elem_idx+1)*batch_size]\n",
    "    a1 =x_batchinput@W1\n",
    "    h1 =relu(a1)\n",
    "    a2 = h1@W2\n",
    "    softmax_score = softmax(a2) \n",
    "    neg_log_softmax_score = -np.log(softmax_score+0.00000001) \n",
    "    \n",
    " \n",
    "    if i_iter%num_minibatches == 0:\n",
    "        loss = np.mean(np.diag(np.take(neg_log_softmax_score, gt_indices[batch_elem_idx*batch_size:(batch_elem_idx+1)*batch_size],\\\n",
    "                                       axis=1)))\n",
    "        print(\" Epoch: {:d}, iteration: {:d}, Loss: {:6.4f} \".format(i_epoch, i_iter, loss))\n",
    "        \n",
    "        loss_list.append(loss)\n",
    "        i.append(i_iter)\n",
    "        i_epoch += 1\n",
    "        \n",
    "        plt.plot(i,np.log(loss_list))\n",
    "        \n",
    "        if i_epoch%10 == 0:\n",
    "            learning_rate /= 10.0\n",
    "            \n",
    "    \n",
    "    \n",
    "    #Backpropagation\n",
    "    gradsoft = softmax_score-y_train[batch_elem_idx*batch_size:(batch_elem_idx+1)*batch_size]\n",
    "    \n",
    "    grad_W2 = np.transpose(h1)@gradsoft\n",
    "    grad_h1 = gradsoft@np.transpose(W2)\n",
    "    grad_a1 = grad_h1*grad_relu(a1)\n",
    "    grad_W1 = x_batchinput.T@grad_a1\n",
    "    W2 -= learning_rate * grad_W2\n",
    "    W1 -= learning_rate * grad_W1\n",
    "#Plot of Loss vs Number of iterations\n",
    "plt.title(\"Cost/Loss Vs. Iterations\")\n",
    "plt.xlabel(\"Iterations\")\n",
    "plt.ylabel(\"Cost/Loss\")\n",
    "plt.show()"
   ]
  },
  {
   "cell_type": "code",
   "execution_count": null,
   "metadata": {},
   "outputs": [],
   "source": []
  },
  {
   "cell_type": "code",
   "execution_count": 87,
   "metadata": {},
   "outputs": [],
   "source": [
    "file2 = 't10k-images-idx3-ubyte'           #Importing Test images\n",
    "arr2 = idx2numpy.convert_from_file(file2)  #Converting to numpy Array\n",
    "file3 = 't10k-labels-idx1-ubyte'           #Importing test labesls\n",
    "arr3 = idx2numpy.convert_from_file(file3)  #Converting to numpy array"
   ]
  },
  {
   "cell_type": "code",
   "execution_count": 88,
   "metadata": {},
   "outputs": [],
   "source": [
    "x_test = arr2\n",
    "x_test = x_test.flatten().reshape(-1,28*28) #Flatten to feed to input layer\n",
    "x_test = x_test / 255.0                     #We’ll normalize the data\n",
    "y_test = arr3"
   ]
  },
  {
   "cell_type": "code",
   "execution_count": 89,
   "metadata": {},
   "outputs": [
    {
     "name": "stdout",
     "output_type": "stream",
     "text": [
      "Accuracy on test data is 98.08 %\n"
     ]
    }
   ],
   "source": [
    "#Validation on test data\n",
    "batch_size_test = 100\n",
    "num_minibatches = len(y_test)/batch_size_test\n",
    "test_correct = 0\n",
    "\n",
    "\n",
    "for i_iter in range(int(num_minibatches)):\n",
    "    \n",
    "    batch_elem_idx = i_iter%num_minibatches\n",
    "    x_batchinput = x_test[i_iter*batch_size_test:(i_iter+1)*batch_size_test]\n",
    "    a1 =x_batchinput@W1\n",
    "    h1 =relu(a1)\n",
    "    a2 = h1@W2\n",
    "    softmax_score = softmax(a2) \n",
    "    \n",
    "    y_batchinput = y_test[i_iter*batch_size_test:(i_iter+1)*batch_size_test]\n",
    "    \n",
    "    y_pred = np.argmax(softmax_score, axis=1)\n",
    "    num_correct_i_iter = np.sum(y_pred == y_batchinput)\n",
    "    test_correct += num_correct_i_iter\n",
    "print (\"Accuracy on test data is {:4.2f} %\".format(test_correct/len(y_test)*100))\n"
   ]
  },
  {
   "cell_type": "code",
   "execution_count": 66,
   "metadata": {},
   "outputs": [],
   "source": [
    "#END Note\n",
    "#Model was optimised by varying hyperparameters i.e. batch size, number of nodes in hidden layer, learning rate and number of iterations.\n",
    "#The best accuracy was found at batch size=64, nodes in hidden layer=512, learning rate=1e-2 and number of iterations=20000"
   ]
  },
  {
   "cell_type": "code",
   "execution_count": null,
   "metadata": {},
   "outputs": [],
   "source": []
  }
 ],
 "metadata": {
  "colab": {
   "collapsed_sections": [],
   "name": "2_Hidden_MLP_New.ipynb",
   "provenance": [],
   "version": "0.3.2"
  },
  "kernelspec": {
   "display_name": "Python 3",
   "language": "python",
   "name": "python3"
  },
  "language_info": {
   "codemirror_mode": {
    "name": "ipython",
    "version": 3
   },
   "file_extension": ".py",
   "mimetype": "text/x-python",
   "name": "python",
   "nbconvert_exporter": "python",
   "pygments_lexer": "ipython3",
   "version": "3.7.3"
  }
 },
 "nbformat": 4,
 "nbformat_minor": 2
}
